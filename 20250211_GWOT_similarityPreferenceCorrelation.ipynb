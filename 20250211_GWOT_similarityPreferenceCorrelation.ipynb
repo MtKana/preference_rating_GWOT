{
 "cells": [
  {
   "cell_type": "code",
   "execution_count": 4,
   "metadata": {},
   "outputs": [],
   "source": [
    "import os\n",
    "import pickle as pkl\n",
    "import sys\n",
    "import numpy as np\n",
    "import pandas as pd\n",
    "import sklearn\n",
    "import csv\n",
    "from scipy.stats import pearsonr, spearmanr\n",
    "import matplotlib.pyplot as plt\n",
    "from matplotlib.patches import Rectangle\n",
    "from mpl_toolkits.mplot3d import Axes3D\n",
    "from sklearn.manifold import MDS\n",
    "import seaborn as sns\n",
    "import ot\n",
    "import plotly.graph_objs as go\n",
    "import plotly.express as px\n",
    "from mpl_toolkits.axes_grid1 import make_axes_locatable\n",
    "import utilityFunctions\n",
    "from itertools import combinations\n",
    "import random\n",
    "from scipy.stats import pearsonr"
   ]
  },
  {
   "cell_type": "code",
   "execution_count": 9,
   "metadata": {},
   "outputs": [],
   "source": [
    "# Function to load and process a CSV file into a matrix\n",
    "def load_csv_to_matrix(file_path, response_type, colour_index, matrix_size):\n",
    "    df = pd.read_csv(file_path)\n",
    "    df = df[(df['practice_trial'] != 1) & (df['response_type'] == response_type)]\n",
    "\n",
    "    colour1 = df['colour1']\n",
    "    colour2 = df['colour2']\n",
    "    target_preference = df['response']\n",
    "\n",
    "    matrix = np.zeros((matrix_size, matrix_size))\n",
    "    for c1, c2, tp in zip(colour1, colour2, target_preference):\n",
    "        I = colour_index[c1]\n",
    "        j = colour_index[c2]\n",
    "        matrix[I, j] = tp\n",
    "\n",
    "    return matrix.astype(int)\n",
    "\n",
    "def get_subject_files(directory):\n",
    "    return [os.path.join(directory, f) for f in os.listdir(directory) if f.endswith('.csv')]\n",
    "\n",
    "def compute_average_matrices(group, response_type, colour_index, matrix_size):\n",
    "    matrices = [load_csv_to_matrix(file, response_type, colour_index, matrix_size) for file in group]\n",
    "    return np.mean(matrices, axis=0) if matrices else np.zeros((matrix_size, matrix_size))\n",
    "\n",
    "def compute_correlations(matrices):\n",
    "    matrix_names = list(matrices.keys())\n",
    "    correlations = {}\n",
    "    \n",
    "    for i in range(len(matrix_names)):\n",
    "        for j in range(i + 1, len(matrix_names)):\n",
    "            mat1_name, mat2_name = matrix_names[i], matrix_names[j]\n",
    "            mat1, mat2 = matrices[mat1_name].flatten(), matrices[mat2_name].flatten()\n",
    "            correlation, _ = pearsonr(mat1, mat2)\n",
    "            correlations[f\"{mat1_name} vs {mat2_name}\"] = correlation\n",
    "    \n",
    "    return correlations"
   ]
  },
  {
   "cell_type": "code",
   "execution_count": 16,
   "metadata": {},
   "outputs": [],
   "source": [
    "# Define unique colors\n",
    "unique_colours = np.array(['#d2b700', '#db8b08', '#c7512c', '#c13547', '#a03663', '#753a7a', '#4b488e', '#005692', '#006a8b', '#007b75', '#008a52', '#9aa400'])\n",
    "colour_index = {colour: idx for idx, colour in enumerate(unique_colours)}\n",
    "matrix_size = len(unique_colours)"
   ]
  },
  {
   "cell_type": "code",
   "execution_count": 13,
   "metadata": {},
   "outputs": [],
   "source": [
    "directory = 'raw_data/202411_data_without19'\n",
    "subject_files = get_subject_files(directory)\n",
    "random.shuffle(subject_files)\n",
    "\n",
    "half = len(subject_files) // 2\n",
    "group1, group2 = subject_files[:half], subject_files[half:]"
   ]
  },
  {
   "cell_type": "code",
   "execution_count": null,
   "metadata": {},
   "outputs": [],
   "source": [
    "matrices = {\n",
    "    \"Preference Group 1\": compute_average_matrices(group1, 'preference', colour_index, matrix_size),\n",
    "    \"Preference Group 2\": compute_average_matrices(group2, 'preference', colour_index, matrix_size),\n",
    "    \"Similarity Group 1\": compute_average_matrices(group1, 'similarity', colour_index, matrix_size),\n",
    "    \"Similarity Group 2\": compute_average_matrices(group2, 'similarity', colour_index, matrix_size),\n",
    "}\n",
    "\n",
    "correlations = compute_correlations(matrices)\n",
    "for key, value in correlations.items():\n",
    "    print(f\"{key}: {value:.4f}\")"
   ]
  },
  {
   "cell_type": "code",
   "execution_count": 20,
   "metadata": {},
   "outputs": [],
   "source": [
    "def compute_correlations(matrices):\n",
    "    matrix_names = list(matrices.keys())\n",
    "    correlation_matrix = np.zeros((len(matrix_names), len(matrix_names)))\n",
    "    \n",
    "    for i in range(len(matrix_names)):\n",
    "        for j in range(i, len(matrix_names)):\n",
    "            mat1, mat2 = matrices[matrix_names[i]].flatten(), matrices[matrix_names[j]].flatten()\n",
    "            correlation, _ = pearsonr(mat1, mat2)\n",
    "            correlation_matrix[i, j] = correlation_matrix[j, i] = correlation\n",
    "    \n",
    "    return correlation_matrix, matrix_names\n",
    "\n",
    "def visualize_correlations(correlation_matrix, matrix_names):\n",
    "    plt.figure(figsize=(8, 6))\n",
    "    sns.heatmap(correlation_matrix, annot=True, xticklabels=matrix_names, yticklabels=matrix_names, cmap='coolwarm', fmt=\".2f\", square=True, linewidths=0.5)\n",
    "    plt.title(\"Correlation Between Preference and Similarity Matrices\")\n",
    "    plt.xticks(rotation=45, ha=\"right\")\n",
    "    plt.yticks(rotation=0)\n",
    "    plt.show()"
   ]
  },
  {
   "cell_type": "code",
   "execution_count": null,
   "metadata": {},
   "outputs": [],
   "source": [
    "correlation_matrix, matrix_names = compute_correlations(matrices)\n",
    "visualize_correlations(correlation_matrix, matrix_names)"
   ]
  },
  {
   "cell_type": "code",
   "execution_count": null,
   "metadata": {},
   "outputs": [],
   "source": []
  }
 ],
 "metadata": {
  "kernelspec": {
   "display_name": "colorpreferencequalia",
   "language": "python",
   "name": "python3"
  },
  "language_info": {
   "codemirror_mode": {
    "name": "ipython",
    "version": 3
   },
   "file_extension": ".py",
   "mimetype": "text/x-python",
   "name": "python",
   "nbconvert_exporter": "python",
   "pygments_lexer": "ipython3",
   "version": "3.12.2"
  }
 },
 "nbformat": 4,
 "nbformat_minor": 2
}
