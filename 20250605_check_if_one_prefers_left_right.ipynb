{
 "cells": [
  {
   "cell_type": "code",
   "execution_count": 1,
   "id": "def50c2f",
   "metadata": {},
   "outputs": [],
   "source": [
    "from utilityFunctions import load_csv_to_matrix_batch, compute_color_preference_raw_batch, compute_color_preference_distance_batch, show_heatmaps, compute_color_similarity_distance_batch, compute_correlations, RSA, split_and_average_matrices\n",
    "from utilityFunctions_GWOT import compute_GWOT_for_all_pairs\n",
    "import numpy as np\n",
    "import pickle\n",
    "import os\n",
    "import random\n",
    "\n",
    "unique_colours = np.array(['#d2b700', '#db8b08', '#c7512c', '#c13547', '#a03663', '#753a7a', '#4b488e', '#005692', '#006a8b', '#007b75', '#008a52', '#9aa400'])\n",
    "colour_index = {colour: idx for idx, colour in enumerate(unique_colours)}\n",
    "matrix_size = len(unique_colours)\n",
    "response_type = 'similarity'"
   ]
  },
  {
   "cell_type": "code",
   "execution_count": 2,
   "id": "d01a4966",
   "metadata": {},
   "outputs": [],
   "source": [
    "folder_path = 'raw_data/202411_data'"
   ]
  },
  {
   "cell_type": "code",
   "execution_count": null,
   "id": "2384ebed",
   "metadata": {},
   "outputs": [
    {
     "name": "stdout",
     "output_type": "stream",
     "text": [
      "Order of files being loaded:\n",
      "raw_data/202411_data/subject_01_551325.csv\n",
      "raw_data/202411_data/subject_02_5a9b20.csv\n",
      "raw_data/202411_data/subject_03_5eb05d.csv\n",
      "raw_data/202411_data/subject_04_609c10.csv\n",
      "raw_data/202411_data/subject_05_60d129.csv\n",
      "raw_data/202411_data/subject_06_610814.csv\n",
      "raw_data/202411_data/subject_07_6171f3.csv\n",
      "raw_data/202411_data/subject_08_65a3ab.csv\n",
      "raw_data/202411_data/subject_09_65f13c.csv\n",
      "raw_data/202411_data/subject_10_65f18d.csv\n",
      "raw_data/202411_data/subject_11_65fa3b.csv\n",
      "raw_data/202411_data/subject_12_663180.csv\n",
      "raw_data/202411_data/subject_13_667c6c.csv\n",
      "raw_data/202411_data/subject_14_667df4.csv\n",
      "raw_data/202411_data/subject_15_668110.csv\n",
      "raw_data/202411_data/subject_16_6681ad.csv\n",
      "raw_data/202411_data/subject_17_66906a.csv\n",
      "raw_data/202411_data/subject_18_66a502.csv\n",
      "raw_data/202411_data/subject_19_6734b5.csv\n"
     ]
    }
   ],
   "source": [
    "response_type = 'preference'\n",
    "subject_matrices_preference = load_csv_to_matrix_batch(folder_path, response_type, colour_index, matrix_size)\n",
    "subject_matrices_preference_raw = compute_color_preference_raw_batch(subject_matrices_preference)\n",
    "subject_matrices_preference_distance = compute_color_preference_distance_batch(subject_matrices_preference)"
   ]
  },
  {
   "cell_type": "code",
   "execution_count": 4,
   "id": "84728ba5",
   "metadata": {},
   "outputs": [],
   "source": [
    "def reorder_matrices_by_row_average(matrices):\n",
    "    reordered_matrices = []\n",
    "    \n",
    "    for matrix in matrices:\n",
    "        # Compute row-wise averages\n",
    "        row_averages = np.mean(matrix, axis=1)\n",
    "        # Get indices that would sort the rows by average (descending)\n",
    "        sorted_indices = np.argsort(-row_averages)\n",
    "        # Reorder rows and columns using the same sorted indices\n",
    "        reordered_matrix = matrix[sorted_indices][:, sorted_indices]\n",
    "        reordered_matrices.append(reordered_matrix)\n",
    "    \n",
    "    return reordered_matrices"
   ]
  },
  {
   "cell_type": "code",
   "execution_count": 5,
   "id": "e57c8d9e",
   "metadata": {},
   "outputs": [],
   "source": [
    "subject_matrices_preference_raw_reordered = reorder_matrices_by_row_average(subject_matrices_preference_raw)\n",
    "subject_matrices_preference_distance_reordered = reorder_matrices_by_row_average(subject_matrices_preference_distance)"
   ]
  },
  {
   "cell_type": "code",
   "execution_count": null,
   "id": "0457a3cf",
   "metadata": {},
   "outputs": [],
   "source": []
  }
 ],
 "metadata": {
  "kernelspec": {
   "display_name": "condapreferencequalia",
   "language": "python",
   "name": "python3"
  },
  "language_info": {
   "codemirror_mode": {
    "name": "ipython",
    "version": 3
   },
   "file_extension": ".py",
   "mimetype": "text/x-python",
   "name": "python",
   "nbconvert_exporter": "python",
   "pygments_lexer": "ipython3",
   "version": "3.11.8"
  }
 },
 "nbformat": 4,
 "nbformat_minor": 5
}
