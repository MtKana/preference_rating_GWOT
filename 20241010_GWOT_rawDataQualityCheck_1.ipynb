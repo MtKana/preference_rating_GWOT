{
 "cells": [
  {
   "cell_type": "markdown",
   "metadata": {},
   "source": [
    "### Conduct raw data quality check - visual inspection"
   ]
  },
  {
   "cell_type": "code",
   "execution_count": null,
   "metadata": {},
   "outputs": [],
   "source": [
    "import os\n",
    "import pickle as pkl\n",
    "import sys\n",
    "sys.path.append('/Users/kana/Library/Mobile Documents/com~apple~CloudDocs/Codes/GWOT_colorprefrencequalia')\n",
    "import numpy as np\n",
    "import pandas as pd\n",
    "import sklearn\n",
    "import csv\n",
    "from scipy.stats import pearsonr, spearmanr\n",
    "import matplotlib.pyplot as plt\n",
    "from matplotlib.patches import Rectangle\n",
    "from mpl_toolkits.mplot3d import Axes3D\n",
    "from sklearn.manifold import MDS\n",
    "import seaborn as sns\n",
    "import ot\n",
    "import plotly.graph_objs as go\n",
    "import plotly.express as px\n",
    "from mpl_toolkits.axes_grid1 import make_axes_locatable\n",
    "import utilityFunctions\n",
    "print(sys.path)\n",
    "from itertools import combinations"
   ]
  },
  {
   "cell_type": "code",
   "execution_count": 65,
   "metadata": {},
   "outputs": [],
   "source": [
    "# Define unique colors\n",
    "unique_colours = np.array(['#d2b700', '#db8b08', '#c7512c', '#c13547', '#a03663', '#753a7a', '#4b488e', '#005692', '#006a8b', '#007b75', '#008a52', '#9aa400'])\n",
    "colour_index = {colour: idx for idx, colour in enumerate(unique_colours)}\n",
    "matrix_size = len(unique_colours)\n",
    "\n",
    "### configuration\n",
    "n_eps = 15 # number of epsilon values tried\n",
    "eps_range = [0.04, 5] # the range of epsilon searched\n",
    "epsilons = np.logspace(np.log10(eps_range[0]), np.log10(eps_range[1]), n_eps) # epsilon values"
   ]
  },
  {
   "cell_type": "code",
   "execution_count": null,
   "metadata": {},
   "outputs": [],
   "source": [
    "def process_csv(file_path):\n",
    "    df = pd.read_csv(file_path)\n",
    "    \n",
    "    # Step 2: Eliminate rows where practice_trial == 1\n",
    "    df = df[df['practice_trial'] != 1]\n",
    "    \n",
    "    # Step 3: Filter rows where response_type == \"similarity\"\n",
    "    df = df[df['response_type'] == \"similarity\"]\n",
    "    \n",
    "    # Step 4: Look at the first 25 trials.thisIndex values\n",
    "    first_25_indices = df['trials.thisIndex'].iloc[:25].tolist()\n",
    "    \n",
    "    # Step 5 & 6: Filter and map trials.thisIndex to sequential range\n",
    "    filtered_df = df[df['trials.thisIndex'].isin(first_25_indices)]\n",
    "    unique_indices = list(filtered_df['trials.thisIndex'].unique())[:25]\n",
    "    index_mapping = {original: new for new, original in enumerate(unique_indices, start=1)}\n",
    "    filtered_df['transformed_index'] = filtered_df['trials.thisIndex'].map(index_mapping)\n",
    "    \n",
    "    # Step 7: Set up the plot\n",
    "    grouped = filtered_df.groupby('transformed_index')\n",
    "    plt.figure(figsize=(10, 6))\n",
    "    \n",
    "    response_pairs = []  # To collect response pairs for correlation calculation\n",
    "    \n",
    "    for transformed_index, group in grouped:\n",
    "        x = [transformed_index] * len(group)\n",
    "        y = group['response'].tolist()\n",
    "        \n",
    "        # Check for identical y-values and set scatter size\n",
    "        identical_y_values = len(set(y)) == 1\n",
    "        scatter_size = 100 if identical_y_values else 50\n",
    "        \n",
    "        # Plot scatter points\n",
    "        plt.scatter(x, y, color='blue', s=scatter_size)\n",
    "        \n",
    "        # Step 8 & 9: Plot connection between points if there are two rows per x\n",
    "        if len(y) == 2:\n",
    "            plt.plot([transformed_index, transformed_index], y, color='red', linewidth=1)\n",
    "            response_pairs.append(y)  # Collect pairs for correlation calculation\n",
    "    \n",
    "    # Calculate overall correlation between paired responses\n",
    "    if response_pairs:\n",
    "        first_responses = [pair[0] for pair in response_pairs]\n",
    "        second_responses = [pair[1] for pair in response_pairs]\n",
    "        pair_correlation = pd.Series(first_responses).corr(pd.Series(second_responses))\n",
    "    else:\n",
    "        pair_correlation = None  # Handle case where no pairs exist\n",
    "    \n",
    "    # Display correlation in a textbox\n",
    "    plt.xlabel('Trial Index')\n",
    "    plt.ylabel('Response')\n",
    "    plt.title(f'Double pass r: {pair_correlation:.2f}')\n",
    "    \n",
    "    # Save plot as PNG\n",
    "    plt.tight_layout()\n",
    "    plt.show()\n",
    "\n",
    "# Process all CSV files in the specified folder\n",
    "folder_path = '/Users/kana/Library/Mobile Documents/com~apple~CloudDocs/Codes/GWOT_raw_data/202411_data'\n",
    "for filename in os.listdir(folder_path):\n",
    "    if filename.endswith('.csv'):\n",
    "        file_path = os.path.join(folder_path, filename)\n",
    "        process_csv(file_path)"
   ]
  },
  {
   "cell_type": "code",
   "execution_count": null,
   "metadata": {},
   "outputs": [],
   "source": []
  }
 ],
 "metadata": {
  "kernelspec": {
   "display_name": "colorpreferencequalia",
   "language": "python",
   "name": "python3"
  },
  "language_info": {
   "codemirror_mode": {
    "name": "ipython",
    "version": 3
   },
   "file_extension": ".py",
   "mimetype": "text/x-python",
   "name": "python",
   "nbconvert_exporter": "python",
   "pygments_lexer": "ipython3",
   "version": "3.12.2"
  }
 },
 "nbformat": 4,
 "nbformat_minor": 2
}
