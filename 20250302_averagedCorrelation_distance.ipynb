{
 "cells": [
  {
   "cell_type": "code",
   "execution_count": 4,
   "metadata": {},
   "outputs": [],
   "source": [
    "from utilityFunctions import load_csv_to_matrix_batch, compute_color_preference_distance_batch, show_heatmaps, compute_color_similarity_distance_batch\n",
    "import numpy as np\n",
    "import random\n",
    "import os"
   ]
  },
  {
   "cell_type": "code",
   "execution_count": 2,
   "metadata": {},
   "outputs": [],
   "source": [
    "def get_subject_files(directory):\n",
    "    return [os.path.join(directory, f) for f in os.listdir(directory) if f.endswith('.csv')]"
   ]
  },
  {
   "cell_type": "code",
   "execution_count": 5,
   "metadata": {},
   "outputs": [],
   "source": [
    "unique_colours = np.array(['#d2b700', '#db8b08', '#c7512c', '#c13547', '#a03663', '#753a7a', '#4b488e', '#005692', '#006a8b', '#007b75', '#008a52', '#9aa400'])\n",
    "colour_index = {colour: idx for idx, colour in enumerate(unique_colours)}\n",
    "matrix_size = len(unique_colours)\n",
    "folder_path = 'raw_data/202411_data_without19'\n",
    "subject_files = get_subject_files(folder_path)\n",
    "random.shuffle(subject_files)\n",
    "half = len(subject_files) // 2\n",
    "group1, group2 = subject_files[:half], subject_files[half:]"
   ]
  },
  {
   "cell_type": "code",
   "execution_count": 6,
   "metadata": {},
   "outputs": [
    {
     "ename": "TypeError",
     "evalue": "listdir: path should be string, bytes, os.PathLike, integer or None, not list",
     "output_type": "error",
     "traceback": [
      "\u001b[0;31m---------------------------------------------------------------------------\u001b[0m",
      "\u001b[0;31mTypeError\u001b[0m                                 Traceback (most recent call last)",
      "Cell \u001b[0;32mIn[6], line 2\u001b[0m\n\u001b[1;32m      1\u001b[0m response_type \u001b[38;5;241m=\u001b[39m \u001b[38;5;124m'\u001b[39m\u001b[38;5;124mpreference\u001b[39m\u001b[38;5;124m'\u001b[39m\n\u001b[0;32m----> 2\u001b[0m subject_matrices_preference \u001b[38;5;241m=\u001b[39m \u001b[43mload_csv_to_matrix_batch\u001b[49m\u001b[43m(\u001b[49m\u001b[43mgroup1\u001b[49m\u001b[43m,\u001b[49m\u001b[43m \u001b[49m\u001b[43mresponse_type\u001b[49m\u001b[43m,\u001b[49m\u001b[43m \u001b[49m\u001b[43mcolour_index\u001b[49m\u001b[43m,\u001b[49m\u001b[43m \u001b[49m\u001b[43mmatrix_size\u001b[49m\u001b[43m)\u001b[49m\n\u001b[1;32m      3\u001b[0m subject_matrices_preference_distance \u001b[38;5;241m=\u001b[39m compute_color_preference_distance_batch(subject_matrices_preference)\n",
      "File \u001b[0;32m~/Library/Mobile Documents/com~apple~CloudDocs/Codes/GWOT_colorprefrencequalia/utilityFunctions.py:63\u001b[0m, in \u001b[0;36mload_csv_to_matrix_batch\u001b[0;34m(folder_path, response_type, colour_index, matrix_size)\u001b[0m\n\u001b[1;32m     61\u001b[0m \u001b[38;5;28;01mdef\u001b[39;00m \u001b[38;5;21mload_csv_to_matrix_batch\u001b[39m(folder_path, response_type, colour_index, matrix_size):\n\u001b[1;32m     62\u001b[0m     subject_matrices \u001b[38;5;241m=\u001b[39m []\n\u001b[0;32m---> 63\u001b[0m     files \u001b[38;5;241m=\u001b[39m [os\u001b[38;5;241m.\u001b[39mpath\u001b[38;5;241m.\u001b[39mjoin(folder_path, f) \u001b[38;5;28;01mfor\u001b[39;00m f \u001b[38;5;129;01min\u001b[39;00m \u001b[43mos\u001b[49m\u001b[38;5;241;43m.\u001b[39;49m\u001b[43mlistdir\u001b[49m\u001b[43m(\u001b[49m\u001b[43mfolder_path\u001b[49m\u001b[43m)\u001b[49m \u001b[38;5;28;01mif\u001b[39;00m f\u001b[38;5;241m.\u001b[39mendswith(\u001b[38;5;124m'\u001b[39m\u001b[38;5;124m.csv\u001b[39m\u001b[38;5;124m'\u001b[39m)]\n\u001b[1;32m     64\u001b[0m     \u001b[38;5;28;01mfor\u001b[39;00m file \u001b[38;5;129;01min\u001b[39;00m files:\n\u001b[1;32m     65\u001b[0m         subject_matrix \u001b[38;5;241m=\u001b[39m load_csv_to_matrix(file, response_type, colour_index, matrix_size)\n",
      "\u001b[0;31mTypeError\u001b[0m: listdir: path should be string, bytes, os.PathLike, integer or None, not list"
     ]
    }
   ],
   "source": [
    "response_type = 'preference'\n",
    "subject_matrices_preference = load_csv_to_matrix_batch(folder_path, response_type, colour_index, matrix_size)\n",
    "subject_matrices_preference_distance = compute_color_preference_distance_batch(subject_matrices_preference)"
   ]
  },
  {
   "cell_type": "code",
   "execution_count": null,
   "metadata": {},
   "outputs": [],
   "source": [
    "response_type = 'similarity'\n",
    "subject_matrices_similarity = load_csv_to_matrix_batch(folder_path, response_type, colour_index, matrix_size)\n",
    "subject_matrices_similarity_distance = compute_color_similarity_distance_batch(subject_matrices_similarity)"
   ]
  }
 ],
 "metadata": {
  "kernelspec": {
   "display_name": "pydata-book",
   "language": "python",
   "name": "python3"
  },
  "language_info": {
   "codemirror_mode": {
    "name": "ipython",
    "version": 3
   },
   "file_extension": ".py",
   "mimetype": "text/x-python",
   "name": "python",
   "nbconvert_exporter": "python",
   "pygments_lexer": "ipython3",
   "version": "3.10.12"
  }
 },
 "nbformat": 4,
 "nbformat_minor": 2
}
