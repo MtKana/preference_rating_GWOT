{
 "cells": [
  {
   "cell_type": "code",
   "execution_count": 18,
   "metadata": {},
   "outputs": [],
   "source": [
    "folder_path = 'raw_data'\n",
    "response_type = 'similarity'"
   ]
  },
  {
   "cell_type": "code",
   "execution_count": null,
   "metadata": {},
   "outputs": [],
   "source": [
    "import os\n",
    "import pickle as pkl\n",
    "import sys\n",
    "import numpy as np\n",
    "import pandas as pd\n",
    "import sklearn\n",
    "import csv\n",
    "from scipy.stats import pearsonr, spearmanr\n",
    "import matplotlib.pyplot as plt\n",
    "from matplotlib.patches import Rectangle\n",
    "from mpl_toolkits.mplot3d import Axes3D\n",
    "from sklearn.manifold import MDS\n",
    "import seaborn as sns\n",
    "import ot\n",
    "import plotly.graph_objs as go\n",
    "import plotly.express as px\n",
    "from mpl_toolkits.axes_grid1 import make_axes_locatable\n",
    "import utilityFunctions\n",
    "print(sys.path)\n",
    "from itertools import combinations"
   ]
  },
  {
   "cell_type": "code",
   "execution_count": 20,
   "metadata": {},
   "outputs": [],
   "source": [
    "# Define unique colors\n",
    "# TODO - remove after confirming that it is no longer needed (replaced by function)\n",
    "unique_colours = np.array(['#d2b700', '#db8b08', '#c7512c', '#c13547', '#a03663', '#753a7a', '#4b488e', '#005692', '#006a8b', '#007b75', '#008a52', '#9aa400'])\n",
    "colour_index = {colour: idx for idx, colour in enumerate(unique_colours)}\n",
    "matrix_size = len(unique_colours)\n",
    "\n",
    "# Provides dictionary of colours, with an assigned id for each colour\n",
    "# OUTPUTS:\n",
    "#   colour_index: dictionary, {colour_string : colour_id}\n",
    "def getUniqueColours():\n",
    "    unique_colours = np.array(['#d2b700', '#db8b08', '#c7512c', '#c13547', '#a03663', '#753a7a', '#4b488e', '#005692', '#006a8b', '#007b75', '#008a52', '#9aa400'])\n",
    "    colour_index = {colour: idx for idx, colour in enumerate(unique_colours)}\n",
    "    return colour_index\n",
    "\n",
    "### configuration\n",
    "n_eps = 15 # number of epsilon values tried\n",
    "eps_range = [1, 2] # the range of epsilon searched\n",
    "epsilons = np.logspace(np.log10(eps_range[0]), np.log10(eps_range[1]), n_eps) # epsilon values"
   ]
  },
  {
   "cell_type": "code",
   "execution_count": 21,
   "metadata": {},
   "outputs": [],
   "source": [
    "# Create matrix\n",
    "matrix_1 = np.zeros((matrix_size, matrix_size))\n",
    "matrix_2 = np.zeros((matrix_size, matrix_size))\n",
    "\n",
    "# Load the second CSV file\n",
    "df_PM1 = pd.read_csv('raw_data/202411_data/5a9b20c535237b0001129820_kana_colourPreferenceQualia_2024-11-14_03h40.27.980.csv')\n",
    "# Apply filters\n",
    "df_PM1 = df_PM1[(df_PM1['practice_trial'] != 1) & (df_PM1['response_type'] == response_type)]\n",
    "\n",
    "# Extract columns\n",
    "colour1_1 = df_PM1['colour1']\n",
    "colour2_1 = df_PM1['colour2']\n",
    "target_preference_1 = df_PM1['response']\n",
    "\n",
    "# Fill the matrix\n",
    "for c1, c2, tp in zip(colour1_1, colour2_1, target_preference_1):\n",
    "    I = colour_index[c1]\n",
    "    j = colour_index[c2]\n",
    "    matrix_1[I, j] = tp\n",
    "\n",
    "# Convert the matrix to integers\n",
    "matrix_1 = matrix_1.astype(int)\n",
    "\n",
    "# Load the second CSV file\n",
    "df_PM2 = pd.read_csv('raw_data/202411_data/5eb05d66438b180fe44f6929_kana_colourPreferenceQualia_2024-11-13_22h37.20.028.csv')\n",
    "df_PM2 = df_PM2[(df_PM2['practice_trial'] != 1) & (df_PM2['response_type'] == response_type)]\n",
    "\n",
    "# Extract columns\n",
    "colour1_2 = df_PM2['colour1']\n",
    "colour2_2 = df_PM2['colour2']\n",
    "target_preference_2 = df_PM2['response']\n",
    "\n",
    "# Fill the matrix\n",
    "for c1, c2, tp in zip(colour1_2, colour2_2, target_preference_2):\n",
    "    I = colour_index[c1]\n",
    "    j = colour_index[c2]\n",
    "    matrix_2[I, j] = tp\n",
    "\n",
    "# Convert the matrix to integers\n",
    "matrix_2 = matrix_2.astype(int)"
   ]
  },
  {
   "cell_type": "code",
   "execution_count": null,
   "metadata": {},
   "outputs": [],
   "source": [
    "utilityFunctions.show_heatmaps(0, 7, matrices=[matrix_1, matrix_2], titles=['Subject 1', 'Subject 2'], cbar_label=\"similarity\", color_labels=unique_colours)"
   ]
  },
  {
   "cell_type": "code",
   "execution_count": null,
   "metadata": {},
   "outputs": [],
   "source": [
    "distance_matrix_1 = utilityFunctions.compute_color_similarity_distance_matrix(matrix_1)\n",
    "distance_matrix_2 = utilityFunctions.compute_color_similarity_distance_matrix(matrix_2)\n",
    "utilityFunctions.show_heatmaps(0, 7, matrices=[distance_matrix_1, distance_matrix_2], titles=['Subject 1', 'Subject 2'], cbar_label=\"similarity\", color_labels=unique_colours)"
   ]
  },
  {
   "cell_type": "code",
   "execution_count": null,
   "metadata": {},
   "outputs": [],
   "source": [
    "RSA_corr = utilityFunctions.RSA(matrix_1, matrix_2)\n",
    "print('RSA correlation coefficient : ', RSA_corr)\n",
    "OT_plan_as, gwds_as, matching_rates_as = utilityFunctions.GWD_and_plot(matrix_1, matrix_2, epsilons)\n",
    "print(min(gwds_as))"
   ]
  },
  {
   "cell_type": "code",
   "execution_count": null,
   "metadata": {},
   "outputs": [],
   "source": [
    "RSA_corr = utilityFunctions.RSA(distance_matrix_1, distance_matrix_2)\n",
    "print('RSA correlation coefficient : ', RSA_corr)\n",
    "OT_plan_as, gwds_as, matching_rates_as = utilityFunctions.GWD_and_plot(distance_matrix_1, distance_matrix_2, epsilons)\n",
    "print(min(gwds_as))"
   ]
  }
 ],
 "metadata": {
  "kernelspec": {
   "display_name": "GWOT",
   "language": "python",
   "name": "python3"
  },
  "language_info": {
   "codemirror_mode": {
    "name": "ipython",
    "version": 3
   },
   "file_extension": ".py",
   "mimetype": "text/x-python",
   "name": "python",
   "nbconvert_exporter": "python",
   "pygments_lexer": "ipython3",
   "version": "3.12.8"
  }
 },
 "nbformat": 4,
 "nbformat_minor": 2
}
