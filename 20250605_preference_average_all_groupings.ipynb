{
 "cells": [
  {
   "cell_type": "code",
   "execution_count": 25,
   "id": "e3914131",
   "metadata": {},
   "outputs": [],
   "source": [
    "from utilityFunctions import load_csv_to_matrix_batch, compute_color_preference_distance_batch, compute_color_preference_raw_batch, show_heatmaps, compute_color_similarity_distance_batch, compute_correlations, RSA, split_and_average_matrices, split_and_average_matrices_100\n",
    "from utilityFunctions_GWOT import compute_GWOT_for_all_pairs\n",
    "import numpy as np\n",
    "import pickle\n",
    "import os\n",
    "\n",
    "unique_colours = np.array(['#d2b700', '#db8b08', '#c7512c', '#c13547', '#a03663', '#753a7a', '#4b488e', '#005692', '#006a8b', '#007b75', '#008a52', '#9aa400'])\n",
    "colour_index = {colour: idx for idx, colour in enumerate(unique_colours)}\n",
    "matrix_size = len(unique_colours)\n",
    "response_type = 'preference'"
   ]
  },
  {
   "cell_type": "code",
   "execution_count": 26,
   "id": "c3b2fd2d",
   "metadata": {},
   "outputs": [],
   "source": [
    "folder_path = 'raw_data/202411_data_without19'"
   ]
  },
  {
   "cell_type": "code",
   "execution_count": 27,
   "id": "b6ff12f3",
   "metadata": {},
   "outputs": [
    {
     "name": "stdout",
     "output_type": "stream",
     "text": [
      "Order of files being loaded:\n",
      "raw_data/202411_data_without19/subject_01_551325.csv\n",
      "raw_data/202411_data_without19/subject_02_5a9b20.csv\n",
      "raw_data/202411_data_without19/subject_03_5eb05d.csv\n",
      "raw_data/202411_data_without19/subject_04_609c10.csv\n",
      "raw_data/202411_data_without19/subject_05_60d129.csv\n",
      "raw_data/202411_data_without19/subject_06_610814.csv\n",
      "raw_data/202411_data_without19/subject_07_6171f3.csv\n",
      "raw_data/202411_data_without19/subject_08_65a3ab.csv\n",
      "raw_data/202411_data_without19/subject_09_65f13c.csv\n",
      "raw_data/202411_data_without19/subject_10_65f18d.csv\n",
      "raw_data/202411_data_without19/subject_11_65fa3b.csv\n",
      "raw_data/202411_data_without19/subject_12_663180.csv\n",
      "raw_data/202411_data_without19/subject_13_667c6c.csv\n",
      "raw_data/202411_data_without19/subject_14_667df4.csv\n",
      "raw_data/202411_data_without19/subject_15_668110.csv\n",
      "raw_data/202411_data_without19/subject_16_6681ad.csv\n",
      "raw_data/202411_data_without19/subject_17_66906a.csv\n",
      "raw_data/202411_data_without19/subject_18_66a502.csv\n"
     ]
    }
   ],
   "source": [
    "response_type = 'preference'\n",
    "subject_matrices_preference = load_csv_to_matrix_batch(folder_path, response_type, colour_index, matrix_size)\n",
    "subject_matrices_preference_raw = compute_color_preference_raw_batch(subject_matrices_preference)\n",
    "subject_matrices_preference_distance = compute_color_preference_distance_batch(subject_matrices_preference)"
   ]
  },
  {
   "cell_type": "code",
   "execution_count": 28,
   "id": "41522c81",
   "metadata": {},
   "outputs": [],
   "source": [
    "def reorder_matrices_by_row_average(matrices):\n",
    "    reordered_matrices = []\n",
    "    \n",
    "    for matrix in matrices:\n",
    "        # Compute row-wise averages\n",
    "        row_averages = np.mean(matrix, axis=1)\n",
    "        # Get indices that would sort the rows by average (descending)\n",
    "        sorted_indices = np.argsort(-row_averages)\n",
    "        # Reorder rows and columns using the same sorted indices\n",
    "        reordered_matrix = matrix[sorted_indices][:, sorted_indices]\n",
    "        reordered_matrices.append(reordered_matrix)\n",
    "    \n",
    "    return reordered_matrices"
   ]
  },
  {
   "cell_type": "code",
   "execution_count": 29,
   "id": "b66732e7",
   "metadata": {},
   "outputs": [],
   "source": [
    "subject_matrices_preference_raw_reordered = reorder_matrices_by_row_average(subject_matrices_preference_raw)"
   ]
  },
  {
   "cell_type": "code",
   "execution_count": 30,
   "id": "38a98d5f",
   "metadata": {},
   "outputs": [
    {
     "data": {
      "text/plain": [
       "18"
      ]
     },
     "execution_count": 30,
     "metadata": {},
     "output_type": "execute_result"
    }
   ],
   "source": [
    "len(subject_matrices_preference_raw)"
   ]
  },
  {
   "cell_type": "code",
   "execution_count": 31,
   "id": "e66238c7",
   "metadata": {},
   "outputs": [],
   "source": [
    "grouping_averaged_allcombination_preference_raw = split_and_average_matrices_100(subject_matrices_preference_raw_reordered)"
   ]
  },
  {
   "cell_type": "code",
   "execution_count": 32,
   "id": "c6c5e7e0",
   "metadata": {},
   "outputs": [
    {
     "data": {
      "text/plain": [
       "100"
      ]
     },
     "execution_count": 32,
     "metadata": {},
     "output_type": "execute_result"
    }
   ],
   "source": [
    "len(grouping_averaged_allcombination_preference_raw)"
   ]
  },
  {
   "cell_type": "code",
   "execution_count": 40,
   "id": "8a323d67",
   "metadata": {},
   "outputs": [
    {
     "data": {
      "image/png": "[encoded data removed]",
      "text/plain": [
       "<Figure size 1000x500 with 4 Axes>"
      ]
     },
     "metadata": {},
     "output_type": "display_data"
    }
   ],
   "source": [
    "pair_of_preference = grouping_averaged_allcombination_preference_raw[4]\n",
    "show_heatmaps(vmin_val=-3.5, vmax_val=3.5, matrices=list(pair_of_preference), titles=list(range(1, 3)), nrows=1, ncols=2, cmap_name = \"coolwarm\", cbar_label=\"Values\", color_labels=unique_colours)"
   ]
  },
  {
   "cell_type": "code",
   "execution_count": 41,
   "id": "bd82eed0",
   "metadata": {},
   "outputs": [
    {
     "name": "stdout",
     "output_type": "stream",
     "text": [
      "Results successfully saved\n"
     ]
    }
   ],
   "source": [
    "filename = \"list_average_of_all_possible_splitting_preference_reordered_raw.pkl\"\n",
    "\n",
    "with open(filename, \"wb\") as file:\n",
    "    pickle.dump(grouping_averaged_allcombination_preference_raw, file)\n",
    "print(f\"Results successfully saved\")"
   ]
  },
  {
   "cell_type": "code",
   "execution_count": 34,
   "id": "ffcf57a7",
   "metadata": {},
   "outputs": [],
   "source": [
    "subject_matrices_preference_distance_reordered = reorder_matrices_by_row_average(subject_matrices_preference_distance)"
   ]
  },
  {
   "cell_type": "code",
   "execution_count": 35,
   "id": "9c978297",
   "metadata": {},
   "outputs": [],
   "source": [
    "grouping_averaged_allcombination_preference_distance = split_and_average_matrices_100(subject_matrices_preference_distance_reordered)"
   ]
  },
  {
   "cell_type": "code",
   "execution_count": 36,
   "id": "55742193",
   "metadata": {},
   "outputs": [
    {
     "name": "stdout",
     "output_type": "stream",
     "text": [
      "Results successfully saved\n"
     ]
    }
   ],
   "source": [
    "filename = \"list_average_of_all_possible_splitting_preference_reordered_distance.pkl\"\n",
    "\n",
    "with open(filename, \"wb\") as file:\n",
    "    pickle.dump(grouping_averaged_allcombination_preference_distance, file)\n",
    "print(f\"Results successfully saved\")"
   ]
  },
  {
   "cell_type": "code",
   "execution_count": null,
   "id": "b4cd9dce",
   "metadata": {},
   "outputs": [],
   "source": []
  }
 ],
 "metadata": {
  "kernelspec": {
   "display_name": "condapreferencequalia",
   "language": "python",
   "name": "python3"
  },
  "language_info": {
   "codemirror_mode": {
    "name": "ipython",
    "version": 3
   },
   "file_extension": ".py",
   "mimetype": "text/x-python",
   "name": "python",
   "nbconvert_exporter": "python",
   "pygments_lexer": "ipython3",
   "version": "3.11.8"
  }
 },
 "nbformat": 4,
 "nbformat_minor": 5
}
