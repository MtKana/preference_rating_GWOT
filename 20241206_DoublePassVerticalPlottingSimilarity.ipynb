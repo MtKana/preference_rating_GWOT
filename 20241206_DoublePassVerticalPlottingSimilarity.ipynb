{
 "cells": [
  {
   "cell_type": "code",
   "execution_count": 8,
   "metadata": {},
   "outputs": [],
   "source": [
    "folder_path = '/Users/kana/Library/Mobile Documents/com~apple~CloudDocs/Codes/GWOT_raw_data/202411_data'\n",
    "response_type = 'similarity'"
   ]
  },
  {
   "cell_type": "code",
   "execution_count": null,
   "metadata": {},
   "outputs": [],
   "source": [
    "import os\n",
    "import pickle as pkl\n",
    "import sys\n",
    "sys.path.append('/Users/kana/Library/Mobile Documents/com~apple~CloudDocs/Codes/GWOT_colorprefrencequalia')\n",
    "import numpy as np\n",
    "import pandas as pd\n",
    "import sklearn\n",
    "import csv\n",
    "from scipy.stats import pearsonr, spearmanr\n",
    "import matplotlib.pyplot as plt\n",
    "from matplotlib.patches import Rectangle\n",
    "from mpl_toolkits.mplot3d import Axes3D\n",
    "from sklearn.manifold import MDS\n",
    "import seaborn as sns\n",
    "import ot\n",
    "import plotly.graph_objs as go\n",
    "import plotly.express as px\n",
    "from mpl_toolkits.axes_grid1 import make_axes_locatable\n",
    "import utilityFunctions\n",
    "print(sys.path)\n",
    "from itertools import combinations"
   ]
  },
  {
   "cell_type": "code",
   "execution_count": 3,
   "metadata": {},
   "outputs": [],
   "source": [
    "# Step 2: Eliminate practice trials\n",
    "def filter_practice_trials(df):\n",
    "    return df[df['practice_trial'] != 1]\n",
    "\n",
    "# Step 3: Filter by response type\n",
    "def filter_response_type(df, response_type):\n",
    "    return df[df['response_type'] == response_type]\n",
    "\n",
    "# Step 4: Extract first N trial indices\n",
    "def extract_first_trial_indices(df, num_trials):\n",
    "    return df['trials.thisIndex'].iloc[:num_trials].tolist()\n",
    "\n",
    "# Step 5 & 6: Map trial indices to a sequential range\n",
    "def transform_indices(df, trial_indices):\n",
    "    filtered_df = df[df['trials.thisIndex'].isin(trial_indices)]\n",
    "    unique_indices = list(filtered_df['trials.thisIndex'].unique())\n",
    "    index_mapping = {original: new for new, original in enumerate(unique_indices, start=1)}\n",
    "    filtered_df['transformed_index'] = filtered_df['trials.thisIndex'].map(index_mapping)\n",
    "    return filtered_df\n",
    "\n",
    "# Step 7: Plot scatter points and connections\n",
    "def plot_scatter_with_connections(filtered_df):\n",
    "    grouped = filtered_df.groupby('transformed_index')\n",
    "    plt.figure(figsize=(10, 6))\n",
    "    response_pairs = []\n",
    "\n",
    "    for transformed_index, group in grouped:\n",
    "        x = [transformed_index] * len(group)\n",
    "        y = group['response'].tolist()\n",
    "\n",
    "        identical_y_values = len(set(y)) == 1\n",
    "        scatter_size = 100 if identical_y_values else 50\n",
    "\n",
    "        plt.scatter(x, y, color='blue', s=scatter_size)\n",
    "\n",
    "        if len(y) == 2:\n",
    "            plt.plot([transformed_index, transformed_index], y, color='red', linewidth=1)\n",
    "            response_pairs.append(y)\n",
    "\n",
    "    return response_pairs\n",
    "\n",
    "# Step 8: Calculate correlation between response pairs\n",
    "def calculate_correlation(response_pairs):\n",
    "    if response_pairs:\n",
    "        first_responses = [pair[0] for pair in response_pairs]\n",
    "        second_responses = [pair[1] for pair in response_pairs]\n",
    "        return pd.Series(first_responses).corr(pd.Series(second_responses))\n",
    "    return None\n",
    "\n",
    "# Step 9: Display the plot with correlation\n",
    "def display_plot(pair_correlation):\n",
    "    plt.xlabel('Trial Index')\n",
    "    plt.ylabel('Response')\n",
    "    title_text = f'Double pass r: {pair_correlation:.2f}' if pair_correlation else \"Double pass r: N/A\"\n",
    "    plt.title(title_text)\n",
    "    plt.tight_layout()\n",
    "    plt.show()"
   ]
  },
  {
   "cell_type": "code",
   "execution_count": 6,
   "metadata": {},
   "outputs": [],
   "source": [
    "# Main function to process a single CSV file\n",
    "def process_csv(file_path, response_type):\n",
    "    df = utilityFunctions.load_csv(file_path)\n",
    "    df = filter_practice_trials(df)\n",
    "    df = filter_response_type(df, response_type)\n",
    "    first_25_indices = extract_first_trial_indices(df, num_trials=25)\n",
    "    filtered_df = transform_indices(df, first_25_indices)\n",
    "    response_pairs = plot_scatter_with_connections(filtered_df)\n",
    "    pair_correlation = calculate_correlation(response_pairs)\n",
    "    display_plot(pair_correlation)"
   ]
  },
  {
   "cell_type": "code",
   "execution_count": null,
   "metadata": {},
   "outputs": [],
   "source": [
    "# Process all CSV files in the specified folder\n",
    "for filename in os.listdir(folder_path):\n",
    "    if filename.endswith('.csv'):\n",
    "        file_path = os.path.join(folder_path, filename)\n",
    "        process_csv(file_path, response_type)"
   ]
  },
  {
   "cell_type": "code",
   "execution_count": null,
   "metadata": {},
   "outputs": [],
   "source": []
  },
  {
   "cell_type": "code",
   "execution_count": null,
   "metadata": {},
   "outputs": [],
   "source": []
  },
  {
   "cell_type": "code",
   "execution_count": null,
   "metadata": {},
   "outputs": [],
   "source": []
  }
 ],
 "metadata": {
  "kernelspec": {
   "display_name": "colorpreferencequalia",
   "language": "python",
   "name": "python3"
  },
  "language_info": {
   "codemirror_mode": {
    "name": "ipython",
    "version": 3
   },
   "file_extension": ".py",
   "mimetype": "text/x-python",
   "name": "python",
   "nbconvert_exporter": "python",
   "pygments_lexer": "ipython3",
   "version": "3.12.2"
  }
 },
 "nbformat": 4,
 "nbformat_minor": 2
}
