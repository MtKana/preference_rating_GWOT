{
 "cells": [
  {
   "cell_type": "code",
   "execution_count": 1,
   "id": "544ce1f0",
   "metadata": {},
   "outputs": [],
   "source": [
    "import scipy.io\n",
    "import numpy as np\n",
    "import h5py"
   ]
  },
  {
   "cell_type": "code",
   "execution_count": 16,
   "id": "8202fd9b",
   "metadata": {},
   "outputs": [
    {
     "ename": "NotImplementedError",
     "evalue": "Please use HDF reader for matlab v7.3 files, e.g. h5py",
     "output_type": "error",
     "traceback": [
      "\u001b[0;31m---------------------------------------------------------------------------\u001b[0m",
      "\u001b[0;31mNotImplementedError\u001b[0m                       Traceback (most recent call last)",
      "Cell \u001b[0;32mIn[16], line 29\u001b[0m\n\u001b[1;32m     24\u001b[0m     cluster2_ids \u001b[38;5;241m=\u001b[39m np\u001b[38;5;241m.\u001b[39marray(cluster2_ids)\u001b[38;5;241m.\u001b[39mflatten()\n\u001b[1;32m     26\u001b[0m     \u001b[38;5;28;01mreturn\u001b[39;00m cluster1_ids, cluster2_ids\n\u001b[0;32m---> 29\u001b[0m cluster1, cluster2 \u001b[38;5;241m=\u001b[39m \u001b[43mload_clusters_from_mat\u001b[49m\u001b[43m(\u001b[49m\u001b[38;5;124;43m'\u001b[39;49m\u001b[38;5;124;43mraw_data/clusters_preference_raw.mat\u001b[39;49m\u001b[38;5;124;43m'\u001b[39;49m\u001b[43m)\u001b[49m\n\u001b[1;32m     30\u001b[0m \u001b[38;5;28mprint\u001b[39m(cluster)\n",
      "Cell \u001b[0;32mIn[16], line 6\u001b[0m, in \u001b[0;36mload_clusters_from_mat\u001b[0;34m(mat_file_path)\u001b[0m\n\u001b[1;32m      4\u001b[0m \u001b[38;5;28;01mdef\u001b[39;00m \u001b[38;5;21mload_clusters_from_mat\u001b[39m(mat_file_path):\n\u001b[1;32m      5\u001b[0m     \u001b[38;5;66;03m# Load the .mat file\u001b[39;00m\n\u001b[0;32m----> 6\u001b[0m     mat_contents \u001b[38;5;241m=\u001b[39m \u001b[43mscipy\u001b[49m\u001b[38;5;241;43m.\u001b[39;49m\u001b[43mio\u001b[49m\u001b[38;5;241;43m.\u001b[39;49m\u001b[43mloadmat\u001b[49m\u001b[43m(\u001b[49m\u001b[43mmat_file_path\u001b[49m\u001b[43m)\u001b[49m\n\u001b[1;32m      8\u001b[0m     \u001b[38;5;66;03m# Extract the 'clusters' variable\u001b[39;00m\n\u001b[1;32m      9\u001b[0m     clusters \u001b[38;5;241m=\u001b[39m mat_contents\u001b[38;5;241m.\u001b[39mget(\u001b[38;5;124m'\u001b[39m\u001b[38;5;124mclusters\u001b[39m\u001b[38;5;124m'\u001b[39m)\n",
      "File \u001b[0;32m/opt/anaconda3/envs/colorpreferencequalia/lib/python3.12/site-packages/scipy/io/matlab/_mio.py:226\u001b[0m, in \u001b[0;36mloadmat\u001b[0;34m(file_name, mdict, appendmat, **kwargs)\u001b[0m\n\u001b[1;32m    224\u001b[0m variable_names \u001b[38;5;241m=\u001b[39m kwargs\u001b[38;5;241m.\u001b[39mpop(\u001b[38;5;124m'\u001b[39m\u001b[38;5;124mvariable_names\u001b[39m\u001b[38;5;124m'\u001b[39m, \u001b[38;5;28;01mNone\u001b[39;00m)\n\u001b[1;32m    225\u001b[0m \u001b[38;5;28;01mwith\u001b[39;00m _open_file_context(file_name, appendmat) \u001b[38;5;28;01mas\u001b[39;00m f:\n\u001b[0;32m--> 226\u001b[0m     MR, _ \u001b[38;5;241m=\u001b[39m \u001b[43mmat_reader_factory\u001b[49m\u001b[43m(\u001b[49m\u001b[43mf\u001b[49m\u001b[43m,\u001b[49m\u001b[43m \u001b[49m\u001b[38;5;241;43m*\u001b[39;49m\u001b[38;5;241;43m*\u001b[39;49m\u001b[43mkwargs\u001b[49m\u001b[43m)\u001b[49m\n\u001b[1;32m    227\u001b[0m     matfile_dict \u001b[38;5;241m=\u001b[39m MR\u001b[38;5;241m.\u001b[39mget_variables(variable_names)\n\u001b[1;32m    229\u001b[0m \u001b[38;5;28;01mif\u001b[39;00m mdict \u001b[38;5;129;01mis\u001b[39;00m \u001b[38;5;129;01mnot\u001b[39;00m \u001b[38;5;28;01mNone\u001b[39;00m:\n",
      "File \u001b[0;32m/opt/anaconda3/envs/colorpreferencequalia/lib/python3.12/site-packages/scipy/io/matlab/_mio.py:80\u001b[0m, in \u001b[0;36mmat_reader_factory\u001b[0;34m(file_name, appendmat, **kwargs)\u001b[0m\n\u001b[1;32m     78\u001b[0m     \u001b[38;5;28;01mreturn\u001b[39;00m MatFile5Reader(byte_stream, \u001b[38;5;241m*\u001b[39m\u001b[38;5;241m*\u001b[39mkwargs), file_opened\n\u001b[1;32m     79\u001b[0m \u001b[38;5;28;01melif\u001b[39;00m mjv \u001b[38;5;241m==\u001b[39m \u001b[38;5;241m2\u001b[39m:\n\u001b[0;32m---> 80\u001b[0m     \u001b[38;5;28;01mraise\u001b[39;00m \u001b[38;5;167;01mNotImplementedError\u001b[39;00m(\u001b[38;5;124m'\u001b[39m\u001b[38;5;124mPlease use HDF reader for matlab v7.3 \u001b[39m\u001b[38;5;124m'\u001b[39m\n\u001b[1;32m     81\u001b[0m                               \u001b[38;5;124m'\u001b[39m\u001b[38;5;124mfiles, e.g. h5py\u001b[39m\u001b[38;5;124m'\u001b[39m)\n\u001b[1;32m     82\u001b[0m \u001b[38;5;28;01melse\u001b[39;00m:\n\u001b[1;32m     83\u001b[0m     \u001b[38;5;28;01mraise\u001b[39;00m \u001b[38;5;167;01mTypeError\u001b[39;00m(\u001b[38;5;124m'\u001b[39m\u001b[38;5;124mDid not recognize version \u001b[39m\u001b[38;5;132;01m%s\u001b[39;00m\u001b[38;5;124m'\u001b[39m \u001b[38;5;241m%\u001b[39m mjv)\n",
      "\u001b[0;31mNotImplementedError\u001b[0m: Please use HDF reader for matlab v7.3 files, e.g. h5py"
     ]
    }
   ],
   "source": [
    "import scipy.io\n",
    "import numpy as np\n",
    "\n",
    "def load_clusters_from_mat(mat_file_path):\n",
    "    # Load the .mat file\n",
    "    mat_contents = scipy.io.loadmat(mat_file_path)\n",
    "    \n",
    "    # Extract the 'clusters' variable\n",
    "    clusters = mat_contents.get('clusters')\n",
    "    \n",
    "    if clusters is None:\n",
    "        raise ValueError(\"The 'clusters' variable was not found in the .mat file.\")\n",
    "    \n",
    "    # Make sure it's a 1x2 structure\n",
    "    if clusters.shape != (1, 2):\n",
    "        raise ValueError(f\"Expected 'clusters' to be 1x2, but got shape {clusters.shape}.\")\n",
    "    \n",
    "    # Each cluster is stored as an object array, so we extract each\n",
    "    cluster1_ids = np.squeeze(clusters[0, 0])\n",
    "    cluster2_ids = np.squeeze(clusters[0, 1])\n",
    "    \n",
    "    # Ensure the clusters are 1D arrays\n",
    "    cluster1_ids = np.array(cluster1_ids).flatten()\n",
    "    cluster2_ids = np.array(cluster2_ids).flatten()\n",
    "    \n",
    "    return cluster1_ids, cluster2_ids\n",
    "\n",
    "\n",
    "cluster1, cluster2 = load_clusters_from_mat('raw_data/clusters_preference_raw.mat')\n",
    "print(cluster)\n"
   ]
  },
  {
   "cell_type": "code",
   "execution_count": null,
   "id": "e870616b",
   "metadata": {},
   "outputs": [
    {
     "ename": "ValueError",
     "evalue": "Size must be positive (size must be positive)",
     "output_type": "error",
     "traceback": [
      "\u001b[0;31m---------------------------------------------------------------------------\u001b[0m",
      "\u001b[0;31mValueError\u001b[0m                                Traceback (most recent call last)",
      "Cell \u001b[0;32mIn[2], line 25\u001b[0m\n\u001b[1;32m     22\u001b[0m     \u001b[38;5;28;01mreturn\u001b[39;00m cluster1_ids, cluster2_ids\n\u001b[1;32m     24\u001b[0m \u001b[38;5;66;03m# Example usage:\u001b[39;00m\n\u001b[0;32m---> 25\u001b[0m cluster1, cluster2 \u001b[38;5;241m=\u001b[39m \u001b[43mload_clusters_from_mat\u001b[49m\u001b[43m(\u001b[49m\u001b[38;5;124;43m'\u001b[39;49m\u001b[38;5;124;43mraw_data/clusters_preference_raw.mat\u001b[39;49m\u001b[38;5;124;43m'\u001b[39;49m\u001b[43m)\u001b[49m\n\u001b[1;32m     26\u001b[0m \u001b[38;5;28mprint\u001b[39m(cluster1)\n\u001b[1;32m     27\u001b[0m \u001b[38;5;28mprint\u001b[39m(cluster2)\n",
      "Cell \u001b[0;32mIn[2], line 6\u001b[0m, in \u001b[0;36mload_clusters_from_mat\u001b[0;34m(mat_file_path)\u001b[0m\n\u001b[1;32m      4\u001b[0m \u001b[38;5;28;01mdef\u001b[39;00m \u001b[38;5;21mload_clusters_from_mat\u001b[39m(mat_file_path):\n\u001b[1;32m      5\u001b[0m     \u001b[38;5;66;03m# Load the .mat file using mat73\u001b[39;00m\n\u001b[0;32m----> 6\u001b[0m     mat_contents \u001b[38;5;241m=\u001b[39m \u001b[43mmat73\u001b[49m\u001b[38;5;241;43m.\u001b[39;49m\u001b[43mloadmat\u001b[49m\u001b[43m(\u001b[49m\u001b[43mmat_file_path\u001b[49m\u001b[43m)\u001b[49m\n\u001b[1;32m      8\u001b[0m     \u001b[38;5;66;03m# Extract the 'clusters' variable\u001b[39;00m\n\u001b[1;32m      9\u001b[0m     clusters \u001b[38;5;241m=\u001b[39m mat_contents\u001b[38;5;241m.\u001b[39mget(\u001b[38;5;124m'\u001b[39m\u001b[38;5;124mclusters\u001b[39m\u001b[38;5;124m'\u001b[39m)\n",
      "File \u001b[0;32m/opt/anaconda3/envs/colorpreferencequalia/lib/python3.12/site-packages/mat73/core.py:347\u001b[0m, in \u001b[0;36mloadmat\u001b[0;34m(file, use_attrdict, only_include, verbose)\u001b[0m\n\u001b[1;32m    345\u001b[0m \u001b[38;5;28;01mtry\u001b[39;00m:\n\u001b[1;32m    346\u001b[0m     \u001b[38;5;28;01mwith\u001b[39;00m h5py\u001b[38;5;241m.\u001b[39mFile(file, \u001b[38;5;124m'\u001b[39m\u001b[38;5;124mr\u001b[39m\u001b[38;5;124m'\u001b[39m) \u001b[38;5;28;01mas\u001b[39;00m hdf5:\n\u001b[0;32m--> 347\u001b[0m         dictionary \u001b[38;5;241m=\u001b[39m \u001b[43mdecoder\u001b[49m\u001b[38;5;241;43m.\u001b[39;49m\u001b[43mmat2dict\u001b[49m\u001b[43m(\u001b[49m\u001b[43mhdf5\u001b[49m\u001b[43m)\u001b[49m\n\u001b[1;32m    348\u001b[0m     \u001b[38;5;28;01mreturn\u001b[39;00m dictionary\n\u001b[1;32m    349\u001b[0m \u001b[38;5;28;01mexcept\u001b[39;00m \u001b[38;5;167;01mFileNotFoundError\u001b[39;00m:\n",
      "File \u001b[0;32m/opt/anaconda3/envs/colorpreferencequalia/lib/python3.12/site-packages/mat73/core.py:93\u001b[0m, in \u001b[0;36mHDF5Decoder.mat2dict\u001b[0;34m(self, hdf5)\u001b[0m\n\u001b[1;32m     91\u001b[0m     \u001b[38;5;28;01mif\u001b[39;00m \u001b[38;5;129;01mnot\u001b[39;00m \u001b[38;5;28mself\u001b[39m\u001b[38;5;241m.\u001b[39mis_included(hdf5[var]):\n\u001b[1;32m     92\u001b[0m         \u001b[38;5;28;01mcontinue\u001b[39;00m\n\u001b[0;32m---> 93\u001b[0m     d[var] \u001b[38;5;241m=\u001b[39m \u001b[38;5;28;43mself\u001b[39;49m\u001b[38;5;241;43m.\u001b[39;49m\u001b[43munpack_mat\u001b[49m\u001b[43m(\u001b[49m\u001b[43mhdf5\u001b[49m\u001b[43m[\u001b[49m\u001b[43mvar\u001b[49m\u001b[43m]\u001b[49m\u001b[43m)\u001b[49m\n\u001b[1;32m     95\u001b[0m \u001b[38;5;28;01mif\u001b[39;00m \u001b[38;5;28mself\u001b[39m\u001b[38;5;241m.\u001b[39monly_include \u001b[38;5;129;01mis\u001b[39;00m \u001b[38;5;129;01mnot\u001b[39;00m \u001b[38;5;28;01mNone\u001b[39;00m:\n\u001b[1;32m     96\u001b[0m     \u001b[38;5;28;01mfor\u001b[39;00m var, found \u001b[38;5;129;01min\u001b[39;00m \u001b[38;5;28mself\u001b[39m\u001b[38;5;241m.\u001b[39m_found_include_var\u001b[38;5;241m.\u001b[39mitems():\n",
      "File \u001b[0;32m/opt/anaconda3/envs/colorpreferencequalia/lib/python3.12/site-packages/mat73/core.py:193\u001b[0m, in \u001b[0;36mHDF5Decoder.unpack_mat\u001b[0;34m(self, hdf5, depth, MATLAB_class, force)\u001b[0m\n\u001b[1;32m    191\u001b[0m \u001b[38;5;28;01melif\u001b[39;00m \u001b[38;5;28misinstance\u001b[39m(hdf5, h5py\u001b[38;5;241m.\u001b[39m_hl\u001b[38;5;241m.\u001b[39mdataset\u001b[38;5;241m.\u001b[39mDataset):\n\u001b[1;32m    192\u001b[0m     \u001b[38;5;28;01mif\u001b[39;00m \u001b[38;5;28mself\u001b[39m\u001b[38;5;241m.\u001b[39mis_included(hdf5) \u001b[38;5;129;01mor\u001b[39;00m force:\n\u001b[0;32m--> 193\u001b[0m         \u001b[38;5;28;01mreturn\u001b[39;00m \u001b[38;5;28;43mself\u001b[39;49m\u001b[38;5;241;43m.\u001b[39;49m\u001b[43mconvert_mat\u001b[49m\u001b[43m(\u001b[49m\u001b[43mhdf5\u001b[49m\u001b[43m,\u001b[49m\u001b[43m \u001b[49m\u001b[43mdepth\u001b[49m\u001b[43m,\u001b[49m\u001b[43m \u001b[49m\u001b[43mMATLAB_class\u001b[49m\u001b[38;5;241;43m=\u001b[39;49m\u001b[43mMATLAB_class\u001b[49m\u001b[43m)\u001b[49m\n\u001b[1;32m    194\u001b[0m \u001b[38;5;28;01melse\u001b[39;00m:\n\u001b[1;32m    195\u001b[0m     \u001b[38;5;28;01mraise\u001b[39;00m \u001b[38;5;167;01mException\u001b[39;00m(\u001b[38;5;124mf\u001b[39m\u001b[38;5;124m'\u001b[39m\u001b[38;5;124mUnknown hdf5 type: \u001b[39m\u001b[38;5;132;01m{\u001b[39;00mkey\u001b[38;5;132;01m}\u001b[39;00m\u001b[38;5;124m:\u001b[39m\u001b[38;5;132;01m{\u001b[39;00m\u001b[38;5;28mtype\u001b[39m(hdf5)\u001b[38;5;132;01m}\u001b[39;00m\u001b[38;5;124m'\u001b[39m)\n",
      "File \u001b[0;32m/opt/anaconda3/envs/colorpreferencequalia/lib/python3.12/site-packages/mat73/core.py:215\u001b[0m, in \u001b[0;36mHDF5Decoder.convert_mat\u001b[0;34m(self, dataset, depth, MATLAB_class)\u001b[0m\n\u001b[1;32m    212\u001b[0m \u001b[38;5;66;03m# all MATLAB variables have the attribute MATLAB_class\u001b[39;00m\n\u001b[1;32m    213\u001b[0m \u001b[38;5;66;03m# if this is not present, it is not convertible\u001b[39;00m\n\u001b[1;32m    214\u001b[0m \u001b[38;5;28;01mif\u001b[39;00m MATLAB_class \u001b[38;5;129;01mis\u001b[39;00m \u001b[38;5;28;01mNone\u001b[39;00m \u001b[38;5;129;01mand\u001b[39;00m \u001b[38;5;124m'\u001b[39m\u001b[38;5;124mMATLAB_class\u001b[39m\u001b[38;5;124m'\u001b[39m \u001b[38;5;129;01min\u001b[39;00m dataset\u001b[38;5;241m.\u001b[39mattrs:\n\u001b[0;32m--> 215\u001b[0m     MATLAB_class \u001b[38;5;241m=\u001b[39m \u001b[43mdataset\u001b[49m\u001b[38;5;241;43m.\u001b[39;49m\u001b[43mattrs\u001b[49m\u001b[43m[\u001b[49m\u001b[38;5;124;43m'\u001b[39;49m\u001b[38;5;124;43mMATLAB_class\u001b[39;49m\u001b[38;5;124;43m'\u001b[39;49m\u001b[43m]\u001b[49m\u001b[38;5;241m.\u001b[39mdecode()\n\u001b[1;32m    218\u001b[0m \u001b[38;5;28;01mif\u001b[39;00m \u001b[38;5;129;01mnot\u001b[39;00m MATLAB_class \u001b[38;5;129;01mand\u001b[39;00m \u001b[38;5;129;01mnot\u001b[39;00m \u001b[38;5;28mself\u001b[39m\u001b[38;5;241m.\u001b[39m_has_refs(dataset):\n\u001b[1;32m    219\u001b[0m     \u001b[38;5;28;01mif\u001b[39;00m \u001b[38;5;28mself\u001b[39m\u001b[38;5;241m.\u001b[39mverbose:\n",
      "File \u001b[0;32mh5py/_objects.pyx:54\u001b[0m, in \u001b[0;36mh5py._objects.with_phil.wrapper\u001b[0;34m()\u001b[0m\n",
      "File \u001b[0;32mh5py/_objects.pyx:55\u001b[0m, in \u001b[0;36mh5py._objects.with_phil.wrapper\u001b[0;34m()\u001b[0m\n",
      "File \u001b[0;32m/opt/anaconda3/envs/colorpreferencequalia/lib/python3.12/site-packages/h5py/_hl/attrs.py:67\u001b[0m, in \u001b[0;36mAttributeManager.__getitem__\u001b[0;34m(self, name)\u001b[0m\n\u001b[1;32m     63\u001b[0m dtype \u001b[38;5;241m=\u001b[39m attr\u001b[38;5;241m.\u001b[39mdtype\n\u001b[1;32m     65\u001b[0m \u001b[38;5;66;03m# Do this first, as we'll be fiddling with the dtype for top-level\u001b[39;00m\n\u001b[1;32m     66\u001b[0m \u001b[38;5;66;03m# array types\u001b[39;00m\n\u001b[0;32m---> 67\u001b[0m htype \u001b[38;5;241m=\u001b[39m \u001b[43mh5t\u001b[49m\u001b[38;5;241;43m.\u001b[39;49m\u001b[43mpy_create\u001b[49m\u001b[43m(\u001b[49m\u001b[43mdtype\u001b[49m\u001b[43m)\u001b[49m\n\u001b[1;32m     69\u001b[0m \u001b[38;5;66;03m# NumPy doesn't support top-level array types, so we have to \"fake\"\u001b[39;00m\n\u001b[1;32m     70\u001b[0m \u001b[38;5;66;03m# the correct type and shape for the array.  For example, consider\u001b[39;00m\n\u001b[1;32m     71\u001b[0m \u001b[38;5;66;03m# attr.shape == (5,) and attr.dtype == '(3,)f'. Then:\u001b[39;00m\n\u001b[1;32m     72\u001b[0m \u001b[38;5;28;01mif\u001b[39;00m dtype\u001b[38;5;241m.\u001b[39msubdtype \u001b[38;5;129;01mis\u001b[39;00m \u001b[38;5;129;01mnot\u001b[39;00m \u001b[38;5;28;01mNone\u001b[39;00m:\n",
      "File \u001b[0;32mh5py/h5t.pyx:1669\u001b[0m, in \u001b[0;36mh5py.h5t.py_create\u001b[0;34m()\u001b[0m\n",
      "File \u001b[0;32mh5py/h5t.pyx:1693\u001b[0m, in \u001b[0;36mh5py.h5t.py_create\u001b[0;34m()\u001b[0m\n",
      "File \u001b[0;32mh5py/h5t.pyx:1731\u001b[0m, in \u001b[0;36mh5py.h5t.py_create\u001b[0;34m()\u001b[0m\n",
      "File \u001b[0;32mh5py/h5t.pyx:1544\u001b[0m, in \u001b[0;36mh5py.h5t._c_string\u001b[0;34m()\u001b[0m\n",
      "\u001b[0;31mValueError\u001b[0m: Size must be positive (size must be positive)"
     ]
    }
   ],
   "source": [
    "import mat73\n",
    "import numpy as np\n",
    "\n",
    "def load_clusters_from_mat(mat_file_path):\n",
    "    mat_contents = mat73.loadmat(mat_file_path)\n",
    "    \n",
    "    clusters = mat_contents.get('clusters')\n",
    "    \n",
    "    if clusters is None:\n",
    "        raise ValueError(\"The 'clusters' variable was not found in the .mat file.\")\n",
    "    \n",
    "    if not (isinstance(clusters, list) or isinstance(clusters, np.ndarray)) or len(clusters) != 2:\n",
    "        raise ValueError(f\"Expected 'clusters' to be a list/array with 2 elements, but got {type(clusters)} with length {len(clusters)}.\")\n",
    "\n",
    "    cluster1_ids = np.array(clusters[0]).flatten()\n",
    "    cluster2_ids = np.array(clusters[1]).flatten()\n",
    "    \n",
    "    return cluster1_ids, cluster2_ids\n",
    "\n",
    "cluster1, cluster2 = load_clusters_from_mat('raw_data/clusters_preference_raw.mat')\n",
    "print(cluster1)\n",
    "print(cluster2)\n"
   ]
  },
  {
   "cell_type": "code",
   "execution_count": null,
   "id": "790093fd",
   "metadata": {},
   "outputs": [],
   "source": []
  }
 ],
 "metadata": {
  "kernelspec": {
   "display_name": "colorpreferencequalia",
   "language": "python",
   "name": "python3"
  },
  "language_info": {
   "codemirror_mode": {
    "name": "ipython",
    "version": 3
   },
   "file_extension": ".py",
   "mimetype": "text/x-python",
   "name": "python",
   "nbconvert_exporter": "python",
   "pygments_lexer": "ipython3",
   "version": "3.12.2"
  }
 },
 "nbformat": 4,
 "nbformat_minor": 5
}
