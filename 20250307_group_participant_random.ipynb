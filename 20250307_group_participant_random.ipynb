{
 "cells": [
  {
   "cell_type": "code",
   "execution_count": 1,
   "metadata": {},
   "outputs": [
    {
     "name": "stdout",
     "output_type": "stream",
     "text": [
      "Moved 9 files to raw_data/202411_data_without19/Group1\n",
      "Moved 9 files to raw_data/202411_data_without19/Group2\n"
     ]
    }
   ],
   "source": [
    "import os\n",
    "import shutil\n",
    "import random\n",
    "\n",
    "\n",
    "directory = \"raw_data/202411_data_without19\" \n",
    "csv_files = [f for f in os.listdir(directory) if f.endswith('.csv')]\n",
    "\n",
    "random.shuffle(csv_files)\n",
    "\n",
    "mid_index = len(csv_files) // 2\n",
    "group1, group2 = csv_files[:mid_index], csv_files[mid_index:]\n",
    "\n",
    "group1_dir = os.path.join(directory, 'Group1')\n",
    "group2_dir = os.path.join(directory, 'Group2')\n",
    "\n",
    "os.makedirs(group1_dir, exist_ok=True)\n",
    "os.makedirs(group2_dir, exist_ok=True)\n",
    "\n",
    "for file in group1:\n",
    "    shutil.move(os.path.join(directory, file), os.path.join(group1_dir, file))\n",
    "\n",
    "for file in group2:\n",
    "    shutil.move(os.path.join(directory, file), os.path.join(group2_dir, file))\n",
    "\n",
    "print(f\"Moved {len(group1)} files to {group1_dir}\")\n",
    "print(f\"Moved {len(group2)} files to {group2_dir}\")"
   ]
  },
  {
   "cell_type": "code",
   "execution_count": null,
   "metadata": {},
   "outputs": [],
   "source": []
  }
 ],
 "metadata": {
  "kernelspec": {
   "display_name": "colorpreferencequalia",
   "language": "python",
   "name": "python3"
  },
  "language_info": {
   "codemirror_mode": {
    "name": "ipython",
    "version": 3
   },
   "file_extension": ".py",
   "mimetype": "text/x-python",
   "name": "python",
   "nbconvert_exporter": "python",
   "pygments_lexer": "ipython3",
   "version": "3.12.2"
  }
 },
 "nbformat": 4,
 "nbformat_minor": 2
}
