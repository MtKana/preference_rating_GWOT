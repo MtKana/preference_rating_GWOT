{
  "cells": [
    {
      "cell_type": "markdown",
      "metadata": {
        "id": "23rsiMaIQKdv"
      },
      "source": [
        "# Purpose of the Notebook\n",
        "This notebook demonstrates the use of Gromov-Wasserstein Optimal Transport (GWOT) for comparing two similarity structures.\n",
        "It contains minimal but self-contained code snippets.\n",
        "We utilize data on the similarity structures of 93 colors, evaluated on 8 levels by color-neurotypical participants, as used in our [paper](https://osf.io/preprints/psyarxiv/h3pqm).\n",
        "For more advanced optimization techniques and additional example applications, please refer to our [toolbox](https://github.com/oizumi-lab/GWTune) on GitHub.\n",
        "\n",
        "Author: Masafumi Oizumi"
      ]
    },
    {
      "cell_type": "code",
      "execution_count": 1,
      "metadata": {
        "colab": {
          "base_uri": "https://localhost:8080/"
        },
        "id": "0kQMiTOkJtE1",
        "outputId": "ad36a493-cf4e-44a3-9919-d457d16cb5ae"
      },
      "outputs": [],
      "source": [
        "import os\n",
        "import pickle as pkl\n",
        "import sys\n",
        "import numpy as np\n",
        "import pandas as pd\n",
        "import sklearn\n",
        "from scipy.stats import pearsonr, spearmanr\n",
        "import matplotlib.pyplot as plt\n",
        "from matplotlib.patches import Rectangle\n",
        "from mpl_toolkits.mplot3d import Axes3D\n",
        "\n",
        "# if google colab is used, install pot\n",
        "try:\n",
        "    from google.colab import drive\n",
        "    IN_COLAB = True\n",
        "except:\n",
        "    IN_COLAB = False\n",
        "\n",
        "if IN_COLAB:\n",
        "    !git clone https://github.com/oizumi-lab/GWOT_tutorial.git\n",
        "    !pip install pot\n",
        "\n",
        "import ot"
      ]
    },
    {
      "cell_type": "markdown",
      "metadata": {
        "id": "2Fdpr5FJo1qz"
      },
      "source": [
        "## Utility Functions"
      ]
    },
    {
      "cell_type": "code",
      "execution_count": 2,
      "metadata": {
        "id": "dJN8aQ_TWOVI"
      },
      "outputs": [],
      "source": [
        "def add_colored_label(ax, x, y, bgcolor, width=1, height=1):\n",
        "  rect = Rectangle((x, y), width, height, facecolor=bgcolor)\n",
        "  ax.add_patch(rect)\n",
        "\n",
        "def show_heatmaps(matrices, titles, cbar_label=None, color_labels=None):\n",
        "  num_plots = len(matrices)\n",
        "  fig, axs = plt.subplots(1, num_plots, figsize=(5*num_plots, 5))\n",
        "\n",
        "  if num_plots == 1:\n",
        "    axs = [axs]\n",
        "\n",
        "  for i, (matrix, title) in enumerate(zip(matrices, titles)):\n",
        "    ax = axs[i]\n",
        "    im = ax.imshow(matrix, aspect='equal')\n",
        "    ax.set_title(title)\n",
        "    cbar = fig.colorbar(im, ax=ax)\n",
        "    cbar.set_label(cbar_label)  # Set the legend of the color bar\n",
        "\n",
        "    if color_labels is not None:\n",
        "      ax.axis('off')\n",
        "      for idx, color in enumerate(color_labels):\n",
        "        add_colored_label(ax, -3.0, idx, color, width=3.0)\n",
        "        add_colored_label(ax, idx, matrix.shape[0], color, height=3.0)\n",
        "\n",
        "        ax.set_aspect('equal')\n",
        "        ax.set_xlim(-3.0, matrix.shape[1])\n",
        "        ax.set_ylim(matrix.shape[0] + 3.0, 0)\n",
        "\n",
        "        for spine in ax.spines.values():\n",
        "          spine.set_visible(False)\n",
        "\n",
        "\n",
        "  plt.tight_layout()\n",
        "  plt.show()\n",
        "\n",
        "def plot_embeddings(embeddings, titles, color_labels, markers=['o', 'X'], overlay=False):\n",
        "  if overlay:\n",
        "    fig = plt.figure()\n",
        "  else:\n",
        "    num_plots = len(embeddings)\n",
        "    fig = plt.figure(figsize=(5*num_plots, 5))\n",
        "\n",
        "  if overlay:\n",
        "      ax = fig.add_subplot(1, 1, 1, projection='3d')\n",
        "\n",
        "  for i, embedding in enumerate(embeddings):\n",
        "    if not overlay:\n",
        "      ax = fig.add_subplot(1, num_plots, i+1, projection='3d')\n",
        "\n",
        "    im = ax.scatter(\n",
        "      xs = embedding[:, 0],\n",
        "      ys = embedding[:, 1],\n",
        "      zs = embedding[:, 2],\n",
        "      marker = markers[i],\n",
        "      color = color_labels,\n",
        "      s = 20,\n",
        "      alpha = 1,\n",
        "      )\n",
        "\n",
        "    if overlay:\n",
        "      ax.scatter([], [], [], marker = markers[i], color = \"black\", s = 10, alpha = 1, label = titles[i])\n",
        "      ax.legend(fontsize = 15, loc = \"best\")\n",
        "    else:\n",
        "      ax.set_title(titles[i])\n",
        "\n",
        "  plt.show()\n",
        "\n",
        "def RSA(matrix1, matrix2, method='pearson'):\n",
        "  upper_tri_1 = matrix1[np.triu_indices(matrix1.shape[0], k=1)]\n",
        "  upper_tri_2 = matrix2[np.triu_indices(matrix2.shape[0], k=1)]\n",
        "  if method == 'pearson':\n",
        "    corr, _ = pearsonr(upper_tri_1, upper_tri_2)\n",
        "  elif method == 'spearman':\n",
        "    corr, _ = spearmanr(upper_tri_1, upper_tri_2)\n",
        "\n",
        "  return corr\n",
        "\n",
        "def comp_matching_rate(OT_plan, k, order=\"maximum\"):\n",
        "  # This function computes the matching rate, assuming that in the optimal transportation plan,\n",
        "  # the items in the i-th row and the j-th column are the same (correct mactch) when i = j.\n",
        "  # Thus, the diagonal elements of the optimal transportation plan represent the probabilities\n",
        "  # that the same items (colors) match between the two structures.\n",
        "\n",
        "  # Get the diagonal elements\n",
        "  diagonal = np.diag(OT_plan)\n",
        "  # Get the top k values for each row\n",
        "  if order == \"maximum\":\n",
        "      topk_values = np.partition(OT_plan, -k)[:, -k:]\n",
        "  elif order == \"minimum\":\n",
        "      topk_values = np.partition(OT_plan, k - 1)[:, :k]\n",
        "  # Count the number of rows where the diagonal is in the top k values and compute the matching rate\n",
        "  count = np.sum([diagonal[i] in topk_values[i] for i in range(OT_plan.shape[0])])\n",
        "  matching_rate = count / OT_plan.shape[0] * 100\n",
        "  return matching_rate"
      ]
    },
    {
      "cell_type": "markdown",
      "metadata": {
        "id": "byBBRE6WQFcP"
      },
      "source": [
        "## Load Data"
      ]
    },
    {
      "cell_type": "code",
      "execution_count": null,
      "metadata": {
        "colab": {
          "base_uri": "https://localhost:8080/"
        },
        "id": "rhoWEE7LPtb-",
        "outputId": "0efccfe9-669e-4100-c2d7-2c73fd69e4de"
      },
      "outputs": [],
      "source": [
        "if IN_COLAB:\n",
        "    drive.mount('/content/drive')\n",
        "    folder_path = '/content/GWOT_tutorial/data/color_data'\n",
        "else:\n",
        "    # set the path to the directory where the data is stored\n",
        "    folder_path = '../data/color_data'\n",
        "\n",
        "# Load two dissimilarity matrices of 93 colors, which are averaged over two non-overlapping color-neurotypical participants\n",
        "RDM1 = np.load(os.path.join(folder_path, 'matrices/RDM_neutyp_group1.npy'))\n",
        "RDM2 = np.load(os.path.join(folder_path, 'matrices/RDM_neutyp_group2.npy'))\n",
        "\n",
        "# Load color labels\n",
        "color_labels = np.load(os.path.join(folder_path, 'color_label/new_color_order.npy'))"
      ]
    },
    {
      "cell_type": "code",
      "execution_count": null,
      "metadata": {
        "colab": {
          "base_uri": "https://localhost:8080/"
        },
        "id": "ApJ-gaDtJAcO",
        "outputId": "852a6c7d-cccf-4b9b-93c2-ac1dd9dd4c6d"
      },
      "outputs": [],
      "source": [
        "RDM1"
      ]
    },
    {
      "cell_type": "code",
      "execution_count": null,
      "metadata": {
        "colab": {
          "base_uri": "https://localhost:8080/"
        },
        "id": "bIzodY02JFas",
        "outputId": "7992b665-82e7-48ca-ab28-bdef0de1aceb"
      },
      "outputs": [],
      "source": [
        "color_labels"
      ]
    },
    {
      "cell_type": "markdown",
      "metadata": {
        "id": "2zfhc-5wUlIj"
      },
      "source": [
        "# 1. Basic Analysis"
      ]
    },
    {
      "cell_type": "markdown",
      "metadata": {
        "id": "SyM5Ujn7hBae"
      },
      "source": [
        "## Visualization of Color Dissimilarity Matrices\n",
        "First, let's visualize the color dissimilarity matrices, RDM1 and RDM2.\n",
        "Note that with a 8-level rating where 0 is very similar and 7 is very dissimilar, higher similarity corresponds to lower values, and lower similarity corresponds to higher values. These are called Representational Dissimilarity Matrices (RDM).\n",
        "Although there is no overlap in participants between the groups, the data is averaged from a considerable number of participants (about 200), so visually, they appear quite similar. Colors are displayed alongside the matrices, visually indicating which row and column correspond to which color."
      ]
    },
    {
      "cell_type": "code",
      "execution_count": null,
      "metadata": {
        "colab": {
          "base_uri": "https://localhost:8080/",
          "height": 507
        },
        "id": "EtyIuW86TpCw",
        "outputId": "54644582-9764-418b-cbc7-ee4896b1c420"
      },
      "outputs": [],
      "source": [
        "show_heatmaps(matrices=[RDM1, RDM2], titles=['Group1', 'Group2'], cbar_label=\"dissimilarity\", color_labels=color_labels)"
      ]
    },
    {
      "cell_type": "markdown",
      "metadata": {
        "id": "KR5PQnf6iI_t"
      },
      "source": [
        "## Visualization of Color Dissimilarity Relationships in Low-Dimensional Space\n",
        "Next, let's visualize dissimilarity relationships between colors in 3D space by using Multi-Dimensional Scaling (MDS)."
      ]
    },
    {
      "cell_type": "code",
      "execution_count": null,
      "metadata": {
        "colab": {
          "base_uri": "https://localhost:8080/",
          "height": 510
        },
        "id": "kStwFFVee8LB",
        "outputId": "964e7829-4870-4f94-e52a-1dc3b382ac1b"
      },
      "outputs": [],
      "source": [
        "embeddings = []\n",
        "for RDM in [RDM1, RDM2]:\n",
        "  mds = sklearn.manifold.MDS(n_components=3, dissimilarity='precomputed', random_state=5)\n",
        "  embedding = mds.fit_transform(RDM)\n",
        "  embeddings.append(embedding)\n",
        "\n",
        "plot_embeddings(embeddings=embeddings, titles=['Group1', 'Group2'], color_labels=color_labels, overlay=False)"
      ]
    },
    {
      "cell_type": "markdown",
      "metadata": {
        "id": "Q_1ZpdSeoevS"
      },
      "source": [
        "## Representational Similarity Analysis: Correlation between Dissmilarity Matrices\n",
        "Visually, it is apparent that the similarity matrices of Group 1 and Group 2 are similar, but to quantitatively measure how similar they are, one method is to use the correlation coefficient. This involves calculating the correlation coefficient for all elements of the two similarity matrices. (More precisely, not all elements are considered, but the diagonal elements and the lower triangular part are excluded. The diagonal elements, which represent the similarity of the same items, are by definition always zero, so they are excluded. Also, since the similarity matrix is typically symmetric, the lower and upper triangular parts are the same, so one of them is excluded.) This method is called Representational Similarity Analysis (RSA) and is widely used in the field of neuroscience."
      ]
    },
    {
      "cell_type": "code",
      "execution_count": null,
      "metadata": {
        "colab": {
          "base_uri": "https://localhost:8080/"
        },
        "id": "4DDN1AG1pYyr",
        "outputId": "81c7a44c-421e-436a-e173-56bf1a43687b"
      },
      "outputs": [],
      "source": [
        "RSA_corr = RSA(RDM1, RDM2)\n",
        "print('RSA correlation coefficient : ', RSA_corr)"
      ]
    },
    {
      "cell_type": "markdown",
      "metadata": {
        "id": "Tt4sT59ysxJZ"
      },
      "source": [
        "# 2. Gromov-Wasserstein Optimal Transport (GWOT)\n",
        "\n",
        "Gromov-Wasserstein Optimal Transport (GWOT) is a technique used to identify correspondences between two sets of points (referred to as \"structures\") and to quantify the degree of similarity between these structures. In the case of the 93 color similarity structure, there are 93 points in each point cloud, where each point represents a color. GWOT attempts to find the optimal transportation plan between these point clouds using only the internal relational information of each structure. The figure above, generated by Multi-Dimensional Scaling (MDS), illustrates the color similarity relationships as point clouds for both Group 1 and Group 2 participants. The purpose of using GWOT is to determine which points (which colors) in Group 1 should be transported to which points (which colors) in Group 2. The amount of mass transported represents the degree of correspondence (or the probability of correspondence) between the points in Group 1 and Group 2. Note that the transportation is generally many-to-many, rather than one-to-one. The degree of similarity between the two structures is then quantified by the minimized transportation cost, known as the Gromov-Wasserstein distance."
      ]
    },
    {
      "cell_type": "markdown",
      "metadata": {
        "id": "kUHJnQDf8a7t"
      },
      "source": [
        "## 2.1 Entropic GWOT"
      ]
    },
    {
      "cell_type": "markdown",
      "metadata": {
        "id": "hK5iTCbT8a7t"
      },
      "source": [
        "Mathematically, Gromov-Wasserstein Optimal Transport is a problem of finding the optimal transportation plan $\\Gamma$ that minimizes the Gromov-Wasserstein Distance given by the following equation:\n",
        "$$\n",
        "\\text{GWD}= \\min_{\\Gamma}\\sum_{i,j,k,l} (D_{i,k} - D'_{j,l})^2 \\Gamma_{i,k}\\Gamma_{j,l} \\tag{1}\n",
        "$$\n",
        "\n",
        "- $D, D'$: Distance matrices\n",
        "- $\\Gamma$: Transportation plan\n",
        "\n",
        "In practice, an additional term, entropy $H(\\Gamma)$, is added to this GWD to minimize it. Adding the entropy term is known to reduce computational complexity and improve the optimization performance. (For more details, refer to the [documentation](https://pythonot.github.io/gen_modules/ot.gromov.html#ot.gromov.entropic_gromov_wasserstein)).\n",
        "\n",
        "$$\n",
        "\\text{GWD}_{\\epsilon}=\\arg\\min_{\\Gamma}\\sum_{i,j,k,l} (D_{i,k} - D'_{j,l})^2 \\Gamma_{i,k}\\Gamma_{j,l}+\\epsilon H(\\Gamma) \\tag{2}\n",
        "$$\n",
        "\n",
        "The optimization problem to minimize the above equation is called entropic GWOT. In practice, to find good optimums, it is necessarly to properly adjust a hyperparameter $\\epsilon$. This adjustment is known as hyperparameter tuning and it is important to perform it effectively to find good optimums.\n",
        "\n",
        "Before performing hyperparameter tuning, first, let's start by setting $\\epsilon$ to an appropriate value and perform entropic GWOT."
      ]
    },
    {
      "cell_type": "code",
      "execution_count": null,
      "metadata": {
        "colab": {
          "base_uri": "https://localhost:8080/"
        },
        "id": "OgpfggRx52ID",
        "outputId": "c8396253-0a45-44c8-c982-fa6660ce7474"
      },
      "outputs": [],
      "source": [
        "epsilon = 0.2 # set the value of hyperparameter\n",
        "# find the optimal transportation plan\n",
        "OT_plan = ot.gromov.entropic_gromov_wasserstein(C1=RDM1,C2=RDM2,epsilon=epsilon,loss_fun=\"square_loss\",verbose=True)"
      ]
    },
    {
      "cell_type": "markdown",
      "metadata": {
        "id": "CrU5vXoh8a7t"
      },
      "source": [
        "### Optimal Transportation Plan\n",
        "The optimal transportation plan (OT_plan) obtained above is in the form of a 93 x 93 matrix, referred to as the optimal transportation matrix. The $(i, j)$ element of this matrix represents the \"probability\" (or something similar) that the i-th color in Group 1 corresponds to the j-th color in Group 2. Since the order of colors is the same in both Group 1 and Group 2, a large value in the diagonal elements ($i=j$) indicates that the same color corresponds to the same color. Visualizing the actual optimal transportation matrix shows that the diagonal elements are indeed large. In fact, not only the diagonal elements but also the elements slightly off the diagonal are large. This indicates that colors in Group 1 are transported to similar colors in Group 2, which is a reasonable result."
      ]
    },
    {
      "cell_type": "code",
      "execution_count": null,
      "metadata": {
        "colab": {
          "base_uri": "https://localhost:8080/",
          "height": 507
        },
        "id": "Nu5Uiemv787C",
        "outputId": "702e1330-dd28-48e9-dc0a-ef6f4609db85"
      },
      "outputs": [],
      "source": [
        "show_heatmaps(matrices=[OT_plan], titles=['Optimal transportation plan'], cbar_label=\"probability\", color_labels=color_labels)"
      ]
    },
    {
      "cell_type": "markdown",
      "metadata": {
        "id": "1_MFOz909PtD"
      },
      "source": [
        "### Varying the Value of $\\epsilon$\n",
        "\n",
        "Next, let's examine how the optimal transportation plan changes when the value of the entropy term coefficient $\\epsilon$ is varied. Generally, as the value of $\\epsilon$ increases, the transportation plan shifts from one-to-one mapping to many-to-many mapping. Additionally, for certain ranges of $\\epsilon$, the large elements that were previously aligned along the diagonal may no longer be visible. Let's observe these changes."
      ]
    },
    {
      "cell_type": "code",
      "execution_count": null,
      "metadata": {
        "colab": {
          "base_uri": "https://localhost:8080/",
          "height": 1000
        },
        "id": "jSlQt_vO8RHN",
        "outputId": "2ccf08bf-fa2b-4c87-c937-4c398f73940f"
      },
      "outputs": [],
      "source": [
        "# set the ranges of epsilon\n",
        "epsilons = [0.02, 0.2, 2.0, 20.0]\n",
        "\n",
        "# visualize optimal transportation plans depending on epsilon\n",
        "for epsilon in epsilons:\n",
        "  OT_plan = ot.gromov.entropic_gromov_wasserstein(C1=RDM1,C2=RDM2,epsilon=epsilon,loss_fun=\"square_loss\",verbose=False)\n",
        "  show_heatmaps(matrices=[OT_plan], titles=[f'Optimal transportation plan ($\\epsilon$={epsilon:.3f})'], color_labels=color_labels)"
      ]
    },
    {
      "cell_type": "markdown",
      "metadata": {
        "id": "aleghGnC8a7t"
      },
      "source": [
        "## 2.2 Hyperparameter Tuning\n",
        "For hyperparameter tuning of $\\epsilon$, we need to run entropic GWOT for different values of $\\epsilon$. Among the local optima found for different $\\epsilon$ values, we select the transportation plan that minimizes the Gromov-Wasserstein distance without the entropy-regularization term (Eq. (1)).\n",
        "\n",
        "In the for loop below, we search for different $\\epsilon$ values, obtaining the optimal transportation plan and the Gromov-Wasserstein Distance (GWD). We also compute the matching rate, which evaluates the percentage of same colors matching between the two groups. Note, however, that the matching rate is not the optimization target in this process. We use only the GWD to select the best hyperparameter. This is a strictly \"unsupervised\" alignment procedure where only internal relationships are used, and external labels such as colors are not used for the alignment."
      ]
    },
    {
      "cell_type": "code",
      "execution_count": null,
      "metadata": {
        "colab": {
          "base_uri": "https://localhost:8080/"
        },
        "id": "acGkSGM68a7t",
        "outputId": "edbc8e08-c213-4c64-c3eb-d1c85a455b28"
      },
      "outputs": [],
      "source": [
        "### configuration\n",
        "n_eps = 10 # number of epsilon values tried\n",
        "eps_range = [0.02, 1] # the range of epsilon searched\n",
        "epsilons = np.logspace(np.log10(eps_range[0]), np.log10(eps_range[1]), n_eps) # epsilon values\n",
        "\n",
        "OT_plans = []\n",
        "gwds = []\n",
        "matching_rates = []\n",
        "\n",
        "for epsilon in epsilons:\n",
        "  print('*********************************')\n",
        "  print(f'epsilon = {epsilon}')\n",
        "\n",
        "  OT, gw_log = ot.gromov.entropic_gromov_wasserstein(C1=RDM1,C2=RDM2,epsilon=epsilon,loss_fun=\"square_loss\", log=True)  # optimization\n",
        "  gwd = gw_log['gw_dist']\n",
        "  matching_rate = comp_matching_rate(OT, k=1)  # calculate the top 1 matching rate\n",
        "  print(f'Gromov-Wasserstein distance : {gwd}, Matching rate : {matching_rate}')\n",
        "\n",
        "  OT_plans.append(OT)\n",
        "  gwds.append(gwd)\n",
        "  matching_rates.append(matching_rate)"
      ]
    },
    {
      "cell_type": "markdown",
      "metadata": {
        "id": "9ZuJvqOU8a7u"
      },
      "source": [
        "### GWD values depending on epsilon values\n",
        "Here, we plot the GWD values found for different $\\epsilon$ values. In the figure, we can observe that the matching rate tends to be higher for local optima with lower GWD values. In such cases, we can achieve correct alignment between the two structures by selecting the one with the lowest GWD as the global optimum, i.e., by a purely unsupervised alignment procedure. However, note that this is not always the case.\n",
        "\n",
        "As we can see in the figure, GWD is minimized when $\\epsilon=0.0477$, and it is lower than the case where $\\epsilon$ is lower. This may be counter-intuitive considering that in entropic GWOT, what is minimized is GWD plus the entropy term (Eq. (2)), not GWD itself (Eq. (1)). The entropy term can be regarded as an obstacle that prevents GWD from being minimized. However, what we observe here is that adding the entropy term with a moderate and appropriate value of $\\epsilon$ practically helps to minimize GWD itself."
      ]
    },
    {
      "cell_type": "code",
      "execution_count": null,
      "metadata": {
        "colab": {
          "base_uri": "https://localhost:8080/",
          "height": 454
        },
        "id": "cdal7y_K8a7u",
        "outputId": "a31c5cbf-62fd-41d1-d807-7af175cacbf1"
      },
      "outputs": [],
      "source": [
        "plt.figure()\n",
        "plt.scatter(epsilons, gwds, c=matching_rates)\n",
        "plt.xlabel(\"epsilon\")\n",
        "plt.ylabel(\"GWD\")\n",
        "plt.xscale('log')\n",
        "plt.grid(True, which = 'both')\n",
        "cbar = plt.colorbar()\n",
        "cbar.set_label(label='Matching Rate (%)')\n",
        "plt.show()"
      ]
    },
    {
      "cell_type": "markdown",
      "metadata": {
        "id": "lXPVGEO08a7u"
      },
      "source": [
        "### Visualize the optimal transportation plan where gwd is minimized\n",
        "Finally, among the local optimums found for different $\\epsilon$ values, let's select the optimal transportation plan that minize GWD and then, visualize the best optimal transportation plan."
      ]
    },
    {
      "cell_type": "code",
      "execution_count": null,
      "metadata": {
        "id": "gVYtAEAV8a7u",
        "outputId": "80ef7431-1957-485b-e4fb-0b9a191cbca1"
      },
      "outputs": [],
      "source": [
        "# extract the best epsilon that minimizes the GWD\n",
        "min_gwd = min(gwds)\n",
        "best_eps_idx = gwds.index(min_gwd)\n",
        "best_eps = epsilons[best_eps_idx]\n",
        "OT_plan = OT_plans[best_eps_idx]\n",
        "matching_rate = matching_rates[best_eps_idx]\n",
        "\n",
        "show_heatmaps(\n",
        "    matrices=[OT_plan],\n",
        "    titles=[f'Optimal transportation plan \\n GWD={min_gwd:.3f} \\n matching rate : {matching_rate:.1f}%'])"
      ]
    },
    {
      "cell_type": "markdown",
      "metadata": {
        "id": "JBPB2_3A8a7u"
      },
      "source": [
        "## 2.3 Visualize the Aligned Embeddings\n",
        "The optimal transportation plan provides the mapping of embeddings in one domain $X$ to the other domain $Y$. With the optimal transportation plan $\\Gamma$, the embeddings in one domain $\\mathbf{x}_i$ are mapped to the embeddings of the other domain $\\mathbf{y}_j$ by the following function $F$,\n",
        "$$\n",
        "F(\\mathbf{x}_i) = \\sum^n_{j=1} \\Gamma_{ij} \\mathbf{y}_j\n",
        "$$\n",
        "With this mapping $F$, the embeddings $\\mathbf{x}_i$, which are now represented by the linear combination of $\\mathbf{y}_j$, are projected into the space of the other domain, where $\\mathbf{y}_j$ resides. This is called barycentric projection. With this projection, the embeddings $\\mathbf{x}_i$ and $\\mathbf{y}_i$, which were previously not in the same space and thus not directly comparable, are now comparable within the same space. Here, we visualize the embeddings $\\mathbf{y}_i$ and the aligned embeddings $F(\\mathbf{x}_j)$."
      ]
    },
    {
      "cell_type": "code",
      "execution_count": null,
      "metadata": {
        "id": "XTeKC9v28a7u",
        "outputId": "ca919232-87d1-474b-9dc2-881756c00f2f"
      },
      "outputs": [],
      "source": [
        "embeddings_y = embeddings[1]\n",
        "# barycentric projection of embedding2 to the space of embedding1\n",
        "projected_embeddings_x = OT_plan @ embeddings_y * len(OT_plan)\n",
        "\n",
        "plot_embeddings(\n",
        "    embeddings=[embeddings_y, projected_embeddings_x],\n",
        "    titles=['Group1', 'Group2'],\n",
        "    overlay=False,\n",
        "    color_labels=color_labels)"
      ]
    }
  ],
  "metadata": {
    "colab": {
      "provenance": []
    },
    "kernelspec": {
      "display_name": "Python 3",
      "name": "python3"
    },
    "language_info": {
      "codemirror_mode": {
        "name": "ipython",
        "version": 3
      },
      "file_extension": ".py",
      "mimetype": "text/x-python",
      "name": "python",
      "nbconvert_exporter": "python",
      "pygments_lexer": "ipython3",
      "version": "3.11.8"
    }
  },
  "nbformat": 4,
  "nbformat_minor": 0
}
