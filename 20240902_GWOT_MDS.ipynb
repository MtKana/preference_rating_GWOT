{
 "cells": [
  {
   "cell_type": "markdown",
   "metadata": {},
   "source": [
    "# Import Packages"
   ]
  },
  {
   "cell_type": "code",
   "execution_count": 1,
   "metadata": {},
   "outputs": [],
   "source": [
    "import os\n",
    "import pickle as pkl\n",
    "import sys\n",
    "import numpy as np\n",
    "import pandas as pd\n",
    "import sklearn\n",
    "import csv\n",
    "from scipy.stats import pearsonr, spearmanr\n",
    "import matplotlib.pyplot as plt\n",
    "from matplotlib.patches import Rectangle\n",
    "from mpl_toolkits.mplot3d import Axes3D\n",
    "from sklearn.manifold import MDS\n",
    "import seaborn as sns\n",
    "import ot\n",
    "import plotly.graph_objs as go\n",
    "import plotly.express as px\n",
    "from mpl_toolkits.axes_grid1 import make_axes_locatable"
   ]
  },
  {
   "cell_type": "markdown",
   "metadata": {},
   "source": [
    "# Define variables (used across the code)"
   ]
  },
  {
   "cell_type": "code",
   "execution_count": 2,
   "metadata": {},
   "outputs": [],
   "source": [
    "# Define unique colors\n",
    "unique_colours = np.array(['#d2b700', '#db8b08', '#c7512c', '#c13547', '#a03663', '#753a7a', '#4b488e', '#005692', '#006a8b', '#007b75', '#008a52', '#9aa400'])\n",
    "colour_index = {colour: idx for idx, colour in enumerate(unique_colours)}\n",
    "matrix_size = len(unique_colours)\n",
    "\n",
    "### configuration\n",
    "n_eps = 15 # number of epsilon values tried\n",
    "eps_range = [0.04, 5] # the range of epsilon searched\n",
    "epsilons = np.logspace(np.log10(eps_range[0]), np.log10(eps_range[1]), n_eps) # epsilon values"
   ]
  },
  {
   "cell_type": "markdown",
   "metadata": {},
   "source": [
    "# Define Utility Functions"
   ]
  },
  {
   "cell_type": "code",
   "execution_count": 3,
   "metadata": {},
   "outputs": [],
   "source": [
    "def add_colored_label(ax, x, y, bgcolor, width=1, height=1):\n",
    "  rect = Rectangle((x, y), width, height, facecolor=bgcolor)\n",
    "  ax.add_patch(rect)\n",
    "  \n",
    "def show_heatmaps(vmin_val, vmax_val, matrices, titles, cbar_label=None, color_labels=None):\n",
    "    num_plots = len(matrices)\n",
    "    fig, axs = plt.subplots(1, num_plots, figsize=(5*num_plots, 5))\n",
    "\n",
    "    if num_plots == 1:\n",
    "        axs = [axs]\n",
    "\n",
    "    for i, (matrix, title) in enumerate(zip(matrices, titles)):\n",
    "        ax = axs[i]\n",
    "        \n",
    "        im = ax.imshow(matrix, aspect='auto', vmin=vmin_val, vmax=vmax_val)\n",
    "        ax.set_title(title)\n",
    "\n",
    "        # Set axis labels\n",
    "        ax.set_xlabel(\"Right\")  # Label for x-axis\n",
    "        ax.set_ylabel(\"Left\")   # Label for y-axis\n",
    "\n",
    "        divider = make_axes_locatable(ax)\n",
    "        cax = divider.append_axes(\"right\", size=\"5%\", pad=0.05)\n",
    "        cbar = fig.colorbar(im, cax=cax)\n",
    "        cbar.set_label(cbar_label)\n",
    "\n",
    "        # Adjust the height of the color bar\n",
    "        position = cax.get_position()\n",
    "        new_position = [position.x0, position.y0 + 0.1, position.width, position.height * 0.8]\n",
    "        cax.set_position(new_position)\n",
    "\n",
    "        if color_labels is not None:\n",
    "            ax.axis('off')\n",
    "            for idx, color in enumerate(color_labels):\n",
    "                add_colored_label(ax, -1.5, idx-0.5, color, width=0.8)\n",
    "                add_colored_label(ax, idx-0.5, matrix.shape[1] - 0.2, color, height=0.8)\n",
    "\n",
    "            ax.set_aspect('equal')\n",
    "            ax.set_xlim(-3.0, matrix.shape[1])\n",
    "            ax.set_ylim(-1, len(color_labels)+1.4)\n",
    "            ax.invert_yaxis()\n",
    "\n",
    "            for spine in ax.spines.values():\n",
    "                spine.set_visible(False)\n",
    "\n",
    "    plt.tight_layout()\n",
    "    plt.show()\n",
    "\n",
    "def transform_value(value):\n",
    "    return -value + 3.5\n",
    "\n",
    "def RSA(matrix1, matrix2, method='pearson'):\n",
    "  upper_tri_1 = matrix1[np.triu_indices(matrix1.shape[0], k=1)]\n",
    "  upper_tri_2 = matrix2[np.triu_indices(matrix2.shape[0], k=1)]\n",
    "  if method == 'pearson':\n",
    "    corr, _ = pearsonr(upper_tri_1, upper_tri_2)\n",
    "  elif method == 'spearman':\n",
    "    corr, _ = spearmanr(upper_tri_1, upper_tri_2)\n",
    "\n",
    "  return corr\n",
    "\n",
    "def comp_matching_rate(OT_plan, k, order=\"maximum\"):\n",
    "  # This function computes the matching rate, assuming that in the optimal transportation plan,\n",
    "  # the items in the i-th row and the j-th column are the same (correct mactch) when i = j.\n",
    "  # Thus, the diagonal elements of the optimal transportation plan represent the probabilities\n",
    "  # that the same items (colors) match between the two structures.\n",
    "\n",
    "  # Get the diagonal elements\n",
    "  diagonal = np.diag(OT_plan)\n",
    "  # Get the top k values for each row\n",
    "  if order == \"maximum\":\n",
    "      topk_values = np.partition(OT_plan, -k)[:, -k:]\n",
    "  elif order == \"minimum\":\n",
    "      topk_values = np.partition(OT_plan, k - 1)[:, :k]\n",
    "  # Count the number of rows where the diagonal is in the top k values and compute the matching rate\n",
    "  count = np.sum([diagonal[i] in topk_values[i] for i in range(OT_plan.shape[0])])\n",
    "  matching_rate = count / OT_plan.shape[0] * 100\n",
    "  return matching_rate\n",
    "\n",
    "# Function to plot the embeddings\n",
    "## Not used in this code\n",
    "def plot_embeddings(embeddings, titles, color_labels, overlay=False):\n",
    "    fig = go.Figure()\n",
    "    \n",
    "    if overlay:\n",
    "        for i, embedding in enumerate(embeddings):\n",
    "            fig.add_trace(go.Scatter3d(\n",
    "                x=embedding[:, 0],\n",
    "                y=embedding[:, 1],\n",
    "                z=embedding[:, 2],\n",
    "                mode='markers+text',\n",
    "                marker=dict(size=10, color=color_labels),\n",
    "                text=color_labels,\n",
    "                textposition=\"top center\",\n",
    "                name=titles[i]\n",
    "            ))\n",
    "    else:\n",
    "        for i, embedding in enumerate(embeddings):\n",
    "            fig = go.Figure()\n",
    "            fig.add_trace(go.Scatter3d(\n",
    "                x=embedding[:, 0],\n",
    "                y=embedding[:, 1],\n",
    "                z=embedding[:, 2],\n",
    "                mode='markers+text',\n",
    "                marker=dict(size=10, color=color_labels),\n",
    "                text=color_labels,\n",
    "                textposition=\"top center\"\n",
    "            ))\n",
    "            fig.update_layout(\n",
    "                title=f'MDS Embedding - {titles[i]}',\n",
    "                scene=dict(\n",
    "                    xaxis_title='Dimension 1',\n",
    "                    yaxis_title='Dimension 2',\n",
    "                    zaxis_title='Dimension 3'\n",
    "                ),\n",
    "                height=800\n",
    "            )\n",
    "    fig.show()\n",
    "\n",
    "# Define the function to compute minimum GWD for the range of epsilons\n",
    "def compute_min_gwd(matrix_1, matrix_2, epsilons):\n",
    "\n",
    "    OT_plans = []\n",
    "    gwds = []\n",
    "    matching_rates = []\n",
    "\n",
    "    for epsilon in epsilons:\n",
    "      OT, gw_log = ot.gromov.entropic_gromov_wasserstein(C1=matrix_1, C2=matrix_2 , epsilon=epsilon, loss_fun=\"square_loss\", log=True)  # optimization\n",
    "      gwd = gw_log['gw_dist']\n",
    "      matching_rate = comp_matching_rate(OT, k=1)  # calculate the top 1 matching rate\n",
    "      OT_plans.append(OT)\n",
    "      gwds.append(gwd)\n",
    "      matching_rates.append(matching_rate)\n",
    "\n",
    "    return min(gwds)\n",
    "\n",
    "def GWD_and_plot(matrix1, matrix2, epsilons):\n",
    "    \n",
    "    OT_plans = []\n",
    "    gwds = []\n",
    "    matching_rates = []\n",
    "\n",
    "    for epsilon in epsilons:\n",
    "      OT, gw_log = ot.gromov.entropic_gromov_wasserstein(C1=matrix1, C2=matrix2 , epsilon=epsilon, loss_fun=\"square_loss\", log=True)  # optimization\n",
    "      gwd = gw_log['gw_dist']\n",
    "      matching_rate = comp_matching_rate(OT, k=1)  # calculate the top 1 matching rate\n",
    "      OT_plans.append(OT)\n",
    "      gwds.append(gwd)\n",
    "      matching_rates.append(matching_rate)\n",
    "\n",
    "      \n",
    "    plt.scatter(epsilons, gwds, c=matching_rates)\n",
    "    plt.xlabel(\"epsilon\")\n",
    "    plt.ylabel(\"GWD\")\n",
    "    plt.xscale('log')\n",
    "    plt.grid(True, which = 'both')\n",
    "    cbar = plt.colorbar()\n",
    "    cbar.set_label(label='Matching Rate (%)')\n",
    "    plt.show()\n",
    "\n",
    "    # extract the best epsilon that minimizes the GWD\n",
    "    min_gwd = min(gwds)\n",
    "    best_eps_idx = gwds.index(min_gwd)\n",
    "    best_eps = epsilons[best_eps_idx]\n",
    "    OT_plan = OT_plans[best_eps_idx]\n",
    "    matching_rate = matching_rates[best_eps_idx]\n",
    "\n",
    "    show_heatmaps(0, 0.1, matrices=[OT_plan], titles=[f'Optimal transportation plan \\n GWD={min_gwd:.3f} \\n matching rate : {matching_rate:.1f}%'])\n",
    "\n",
    "    return OT_plan, gwds, matching_rates\n",
    "\n",
    "\n",
    "def OT_epsilon(epsilons, OT_plans, gwds, e_ind, matching_rates):\n",
    "\n",
    "    best_eps_idx = e_ind\n",
    "    min_gwd = gwds[best_eps_idx]\n",
    "    best_eps = epsilons[best_eps_idx]\n",
    "    OT_plan = OT_plans[best_eps_idx]\n",
    "    matching_rate = matching_rates[best_eps_idx]\n",
    "\n",
    "    show_heatmaps(0, 0.05,\n",
    "        matrices=[OT_plan],\n",
    "        titles=[f'Optimal transportation plan \\n GWD={min_gwd:.3f} \\n matching rate : {matching_rate:.1f}%'],\n",
    "        color_labels=unique_colours)\n",
    "    \n",
    "# Function to shuffle the upper and lower triangular parts of a matrix\n",
    "def shuffle_upper_and_lower_triangular(matrix, size):\n",
    "    # Create a copy of the matrix\n",
    "    matrix_copy = matrix.copy()\n",
    "    \n",
    "    # Set the diagonal elements to zero\n",
    "    np.fill_diagonal(matrix_copy, 0)\n",
    "\n",
    "    # Shuffle the upper triangular elements\n",
    "    upper_tri_indices = np.triu_indices(size, 1)\n",
    "    upper_tri_values = matrix_copy[upper_tri_indices].copy()\n",
    "    np.random.shuffle(upper_tri_values)\n",
    "    matrix_copy[upper_tri_indices] = upper_tri_values\n",
    "    \n",
    "    # Shuffle the lower triangular elements\n",
    "    lower_tri_indices = np.tril_indices(size, -1)\n",
    "    lower_tri_values = matrix_copy[lower_tri_indices].copy()\n",
    "    np.random.shuffle(lower_tri_values)\n",
    "    matrix_copy[lower_tri_indices] = lower_tri_values\n",
    "    \n",
    "    # Return the shuffled matrix\n",
    "    return matrix_copy\n",
    "\n",
    "# Shuffle elements across rows except the diagonal elements\n",
    "def shuffle_column_and_asymmetritisize(matrix, size):\n",
    "    matrix_copy = matrix.copy()\n",
    "    np.fill_diagonal(matrix_copy, 0)\n",
    "\n",
    "    # Set the lower triangular part of the matrix to the negative of the upper triangular part\n",
    "    for i in range(size):\n",
    "        for j in range(i + 1, size):\n",
    "            matrix_copy[j, i] = -matrix_copy[i, j]\n",
    "\n",
    "    for i in range(size):\n",
    "        non_diag_indices = [j for j in range(matrix_size) if j != i]\n",
    "        non_diag_values = matrix_copy[non_diag_indices, i].copy()\n",
    "        np.random.shuffle(non_diag_values)\n",
    "        matrix_copy[non_diag_indices, i] = non_diag_values\n",
    "    \n",
    "    return matrix_copy\n",
    "\n",
    "# Function to shuffle elements across rows except for the diagonal elements\n",
    "def shuffle_row_and_asymmetritisize(matrix, size):\n",
    "    matrix_copy = matrix.copy()\n",
    "    \n",
    "    # Set the diagonal elements to zero\n",
    "    np.fill_diagonal(matrix_copy, 0)\n",
    "\n",
    "    # Shuffle each row except for the diagonal elements\n",
    "    for i in range(size):\n",
    "        non_diag_indices = [j for j in range(size) if j != i]\n",
    "        non_diag_values = matrix_copy[i, non_diag_indices].copy()\n",
    "        np.random.shuffle(non_diag_values)\n",
    "        matrix_copy[i, non_diag_indices] = non_diag_values\n",
    "    for i in range(size):\n",
    "        for j in range(i + 1, size):\n",
    "            matrix_copy[j, i] = -matrix_copy[i, j]\n",
    "\n",
    "    return matrix_copy"
   ]
  },
  {
   "cell_type": "markdown",
   "metadata": {},
   "source": [
    "# Load Data"
   ]
  },
  {
   "cell_type": "code",
   "execution_count": 4,
   "metadata": {},
   "outputs": [],
   "source": [
    "# Create matrix\n",
    "matrix_1 = np.zeros((matrix_size, matrix_size))\n",
    "matrix_2 = np.zeros((matrix_size, matrix_size))\n",
    "\n",
    "# Load the second CSV file\n",
    "df_PM1 = pd.read_csv('raw_data/kana_colourpreferencequalia-master/data/5a9b20c535237b0001129820_kana_colourPreferenceQualia_2024-11-14_03h40.27.980.csv')\n",
    "\n",
    "# Extract columns\n",
    "colour1_1 = df_PM1['colour1']\n",
    "colour2_1 = df_PM1['colour2']\n",
    "target_preference_1 = df_PM1['response']\n",
    "\n",
    "# Fill the matrix\n",
    "for c1, c2, tp in zip(colour1_1, colour2_1, target_preference_1):\n",
    "    I = colour_index[c1]\n",
    "    j = colour_index[c2]\n",
    "    matrix_1[I, j] = tp\n",
    "\n",
    "# Load the second CSV file\n",
    "df_PM2 = pd.read_csv('raw_data/kana_colourpreferencequalia-master/data/5eb05d66438b180fe44f6929_kana_colourPreferenceQualia_2024-11-13_22h37.20.028.csv')\n",
    "\n",
    "# Extract columns\n",
    "colour1_2 = df_PM2['colour1']\n",
    "colour2_2 = df_PM2['colour2']\n",
    "target_preference_2 = df_PM2['response']\n",
    "\n",
    "# Fill the matrix\n",
    "for c1, c2, tp in zip(colour1_2, colour2_2, target_preference_2):\n",
    "    I = colour_index[c1]\n",
    "    j = colour_index[c2]\n",
    "    matrix_2[I, j] = tp\n"
   ]
  },
  {
   "cell_type": "markdown",
   "metadata": {},
   "source": [
    "# Raw Data - asymmetric"
   ]
  },
  {
   "cell_type": "code",
   "execution_count": null,
   "metadata": {},
   "outputs": [],
   "source": [
    "show_heatmaps(0, 7, matrices=[matrix_1, matrix_2], titles=['Subject 1', 'Subject 2'], cbar_label=\"preference\", color_labels=unique_colours)"
   ]
  },
  {
   "cell_type": "markdown",
   "metadata": {},
   "source": [
    "# Value Mapping to -3.5 ~ 3.5 - raw matrix"
   ]
  },
  {
   "cell_type": "code",
   "execution_count": 162,
   "metadata": {},
   "outputs": [],
   "source": [
    "# Apply the transformation rule to the entire matrix\n",
    "value_mapped_raw_1 = np.vectorize(transform_value)(matrix_1)\n",
    "\n",
    "# Set the diagonal elements to zero\n",
    "np.fill_diagonal(value_mapped_raw_1, 0)\n",
    "\n",
    "# Convert to DataFrame for better readability\n",
    "value_mapped_raw_1_df = pd.DataFrame(value_mapped_raw_1, index=unique_colours, columns=unique_colours)"
   ]
  },
  {
   "cell_type": "code",
   "execution_count": 163,
   "metadata": {},
   "outputs": [],
   "source": [
    "# Apply the transformation rule to the entire matrix\n",
    "value_mapped_raw_2 = np.vectorize(transform_value)(matrix_2)\n",
    "\n",
    "# Set the diagonal elements to zero\n",
    "np.fill_diagonal(value_mapped_raw_2, 0)\n",
    "\n",
    "# Convert to DataFrame for better readability\n",
    "value_mapped_raw_2_df = pd.DataFrame(value_mapped_raw_2, index=unique_colours, columns=unique_colours)"
   ]
  },
  {
   "cell_type": "code",
   "execution_count": null,
   "metadata": {},
   "outputs": [],
   "source": [
    "show_heatmaps(-3.5, 3.5, matrices=[value_mapped_raw_1, value_mapped_raw_2], titles=['Subject 1', 'Subject 2'], cbar_label=\"preference\", color_labels=unique_colours)"
   ]
  },
  {
   "cell_type": "markdown",
   "metadata": {},
   "source": [
    "# Value Mapping - symmetric"
   ]
  },
  {
   "cell_type": "code",
   "execution_count": 165,
   "metadata": {},
   "outputs": [],
   "source": [
    "# Get the size of the matrix (assume it's square)\n",
    "n = matrix_1.shape[0]\n",
    "\n",
    "# Create an empty matrix to store the symmetrical version\n",
    "value_mapped_sym_1 = np.zeros_like(matrix_1)\n",
    "\n",
    "# Loop through the upper triangle and the diagonal of the matrix\n",
    "for i in range(n):\n",
    "    for j in range(i, n):\n",
    "        # Compute the average of the symmetric cells (i,j) and (j,i)\n",
    "        avg_value = (abs(value_mapped_raw_1[i, j]) + abs(value_mapped_raw_1[j, i])) / 2.0\n",
    "        # Assign the average to both (i,j) and (j,i) in the new symmetrical matrix\n",
    "        value_mapped_sym_1[i, j] = avg_value\n",
    "        value_mapped_sym_1[j, i] = avg_value\n",
    "\n",
    "# Set all diagonal elements to zero\n",
    "np.fill_diagonal(value_mapped_sym_1, 0)\n",
    "\n",
    "# Convert to DataFrame for better readability\n",
    "value_mapped_sym_1_df = pd.DataFrame(value_mapped_sym_1, index=unique_colours, columns=unique_colours)"
   ]
  },
  {
   "cell_type": "code",
   "execution_count": 166,
   "metadata": {},
   "outputs": [],
   "source": [
    "# Get the size of the matrix (assume it's square)\n",
    "n = matrix_2.shape[0]\n",
    "\n",
    "# Create an empty matrix to store the symmetrical version\n",
    "value_mapped_sym_2 = np.zeros_like(matrix_2)\n",
    "\n",
    "# Loop through the upper triangle and the diagonal of the matrix\n",
    "for i in range(n):\n",
    "    for j in range(i, n):\n",
    "        # Compute the average of the symmetric cells (i,j) and (j,i)\n",
    "        avg_value = (abs(value_mapped_raw_2[i, j]) + abs(value_mapped_raw_2[j, i])) / 2.0\n",
    "        # Assign the average to both (i,j) and (j,i) in the new symmetrical matrix\n",
    "        value_mapped_sym_2[i, j] = avg_value\n",
    "        value_mapped_sym_2[j, i] = avg_value\n",
    "\n",
    "# Set all diagonal elements to zero\n",
    "np.fill_diagonal(value_mapped_sym_2, 0)\n",
    "\n",
    "# Convert to DataFrame for better readability\n",
    "value_mapped_sym_1_df = pd.DataFrame(value_mapped_sym_2, index=unique_colours, columns=unique_colours)"
   ]
  },
  {
   "cell_type": "code",
   "execution_count": null,
   "metadata": {},
   "outputs": [],
   "source": [
    "show_heatmaps( 0, 3.5, matrices=[value_mapped_sym_1, value_mapped_sym_2], titles=['Subject 1', 'Subject 2'], cbar_label=\"preference\", color_labels=unique_colours)"
   ]
  },
  {
   "cell_type": "markdown",
   "metadata": {},
   "source": [
    "# MDS"
   ]
  },
  {
   "cell_type": "markdown",
   "metadata": {},
   "source": [
    "### 1D MDS and overall preference rating"
   ]
  },
  {
   "cell_type": "code",
   "execution_count": 168,
   "metadata": {},
   "outputs": [],
   "source": [
    "def plot_1DMDS_overallPreference(matrix_transformed_1, matrix_transformed_2, matrix_transformed_1_as, matrix_transformed_2_as, unique_colours):\n",
    "    embeddings = []\n",
    "    for RDM in [matrix_transformed_1, matrix_transformed_2]:\n",
    "        mds = MDS(n_components=1, dissimilarity='precomputed', random_state=5)\n",
    "        embedding = mds.fit_transform(RDM)\n",
    "        embeddings.append(embedding)\n",
    "\n",
    "    row_averages_1 = matrix_transformed_1_as.mean(axis=0).reshape(-1, 1)\n",
    "    embeddings_1 = np.hstack((embeddings[0], row_averages_1))\n",
    "\n",
    "    row_averages_2 = matrix_transformed_2_as.mean(axis=0).reshape(-1, 1)\n",
    "    embeddings_2 = np.hstack((embeddings[1], row_averages_2))\n",
    "\n",
    "    embeddings_3 = [embeddings_1, embeddings_2]\n",
    "\n",
    "    # Plot the embeddings\n",
    "    plt.figure(figsize=(12, 6))\n",
    "\n",
    "    # Plot the first embedding\n",
    "    plt.subplot(1, 2, 1)\n",
    "    plt.scatter(embeddings_3[0][:, 0], embeddings_3[0][:, 1], color=unique_colours)\n",
    "    for i, color in enumerate(unique_colours):\n",
    "        plt.text(embeddings_3[0][i, 0], embeddings_3[0][i, 1], color, fontsize=12, color=color)\n",
    "    plt.title('MDS Embedding - Subject 1')\n",
    "    plt.xlabel('MDS Dimension 1', fontsize=14)\n",
    "    plt.ylabel('Overall Preference value', fontsize=14)\n",
    "\n",
    "    # Plot the second embedding\n",
    "    plt.subplot(1, 2, 2)\n",
    "    plt.scatter(embeddings_3[1][:, 0], embeddings_3[1][:, 1], color=unique_colours)\n",
    "    for i, color in enumerate(unique_colours):\n",
    "        plt.text(embeddings_3[1][i, 0], embeddings_3[1][i, 1], color, fontsize=12, color=color)\n",
    "    plt.title('MDS Embedding - Subject 2')\n",
    "    plt.xlabel('MDS Dimension 1', fontsize=14)\n",
    "    plt.ylabel('Overall Preference value', fontsize=14)\n",
    "\n",
    "    plt.tight_layout()\n",
    "    plt.show()"
   ]
  },
  {
   "cell_type": "code",
   "execution_count": null,
   "metadata": {},
   "outputs": [],
   "source": [
    "plot_1DMDS_overallPreference(value_mapped_sym_1, value_mapped_sym_2, value_mapped_raw_1, value_mapped_raw_2, unique_colours)"
   ]
  },
  {
   "cell_type": "markdown",
   "metadata": {},
   "source": [
    "### 3D MDS"
   ]
  },
  {
   "cell_type": "code",
   "execution_count": 170,
   "metadata": {},
   "outputs": [],
   "source": [
    "def plot_3D_embeddings(embeddings, titles, color_labels, overlay=False):\n",
    "\n",
    "    if overlay:\n",
    "        fig = go.Figure()\n",
    "        for i, embedding in enumerate(embeddings):\n",
    "            fig.add_trace(go.Scatter3d(\n",
    "                x=embedding[:, 0],\n",
    "                y=embedding[:, 1],\n",
    "                z=embedding[:, 2],\n",
    "                mode='markers+text',\n",
    "                marker=dict(size=10, color=color_labels),\n",
    "                text=color_labels,\n",
    "                textposition=\"top center\",\n",
    "                name=titles[i]\n",
    "            ))\n",
    "        fig.update_layout(\n",
    "            title='Overlayed MDS Embeddings',\n",
    "            scene=dict(\n",
    "                xaxis_title='Dimension 1',\n",
    "                yaxis_title='Dimension 2',\n",
    "                zaxis_title='Dimension 3'\n",
    "            ),\n",
    "            height=800,\n",
    "            plot_bgcolor='white'\n",
    "        )\n",
    "        fig.show()\n",
    "    else:\n",
    "        for i, embedding in enumerate(embeddings):\n",
    "            fig = go.Figure()\n",
    "            fig.add_trace(go.Scatter3d(\n",
    "                x=embedding[:, 0],\n",
    "                y=embedding[:, 1],\n",
    "                z=embedding[:, 2],\n",
    "                mode='markers+text',\n",
    "                marker=dict(size=10, color=color_labels),\n",
    "                text=color_labels,\n",
    "                textposition=\"top center\"\n",
    "            ))\n",
    "            fig.update_layout(\n",
    "                title=f'MDS Embedding - {titles[i]}',\n",
    "                scene=dict(\n",
    "                    xaxis_title='Dimension 1',\n",
    "                    yaxis_title='Dimension 2',\n",
    "                    zaxis_title='Dimension 3'\n",
    "                ),\n",
    "                height=800,\n",
    "                plot_bgcolor='white'\n",
    "            )\n",
    "            fig.show()\n",
    "\n",
    "\n",
    "def plot_3DMDS(matrix_transformed_1, matrix_transformed_2, titles, color_labels, overlay=False):\n",
    "    # Compute MDS for each transformed matrix\n",
    "    embeddings = []\n",
    "    for RDM in [matrix_transformed_1, matrix_transformed_2]:\n",
    "        mds = MDS(n_components=3, dissimilarity='precomputed', random_state=5)\n",
    "        embedding = mds.fit_transform(RDM)\n",
    "        embeddings.append(embedding)\n",
    "\n",
    "    plot_3D_embeddings(embeddings, titles, color_labels, overlay=False)"
   ]
  },
  {
   "cell_type": "code",
   "execution_count": null,
   "metadata": {},
   "outputs": [],
   "source": [
    "# Plot the embeddings\n",
    "plot_3DMDS(value_mapped_sym_1, value_mapped_sym_2, titles=['Subject 1', 'Subject 2'], color_labels=unique_colours, overlay=False)"
   ]
  },
  {
   "cell_type": "markdown",
   "metadata": {},
   "source": [
    "### 2D MDS"
   ]
  },
  {
   "cell_type": "code",
   "execution_count": 172,
   "metadata": {},
   "outputs": [],
   "source": [
    "def plot_2DMDS(matrix_transformed_1, matrix_transformed_2):\n",
    "    # List to store the embeddings\n",
    "    embeddings = []\n",
    "\n",
    "    # Compute MDS for each transformed matrix\n",
    "    for RDM in [matrix_transformed_1, matrix_transformed_2]:\n",
    "        mds = MDS(n_components=2, dissimilarity='precomputed', random_state=5)\n",
    "        embedding = mds.fit_transform(RDM)\n",
    "        embeddings.append(embedding)\n",
    "\n",
    "    # Define unique colors\n",
    "    unique_colours = np.array([\"#d2b700\", \"#db8b08\", \"#c7512c\", \"#c13547\", \"#a03663\", \"#753a7a\", \"#4b488e\", \"#005692\", \"#006a8b\", \"#007b75\", \"#008a52\", \"#9aa400\"])\n",
    "\n",
    "    # Plot the embeddings\n",
    "    plt.figure(figsize=(12, 6))\n",
    "\n",
    "    # Plot the first embedding\n",
    "    plt.subplot(1, 2, 1)\n",
    "    plt.scatter(embeddings[0][:, 0], embeddings[0][:, 1], color=unique_colours)\n",
    "    for i, color in enumerate(unique_colours):\n",
    "        plt.text(embeddings[0][i, 0], embeddings[0][i, 1], color, fontsize=12, color=color)\n",
    "    plt.title('MDS Embedding - Subject 1')\n",
    "    plt.xlabel('Dimension 1')\n",
    "    plt.ylabel('Dimension 2')\n",
    "\n",
    "    # Plot the second embedding\n",
    "    plt.subplot(1, 2, 2)\n",
    "    plt.scatter(embeddings[1][:, 0], embeddings[1][:, 1], color=unique_colours)\n",
    "    for i, color in enumerate(unique_colours):\n",
    "        plt.text(embeddings[1][i, 0], embeddings[1][i, 1], color, fontsize=12, color=color)\n",
    "    plt.title('MDS Embedding - Subject 2')\n",
    "    plt.xlabel('Dimension 1')\n",
    "    plt.ylabel('Dimension 2')\n",
    "\n",
    "    plt.tight_layout()\n",
    "    plt.show()"
   ]
  },
  {
   "cell_type": "code",
   "execution_count": null,
   "metadata": {},
   "outputs": [],
   "source": [
    "plot_2DMDS(value_mapped_sym_1, value_mapped_sym_2)"
   ]
  },
  {
   "cell_type": "markdown",
   "metadata": {},
   "source": [
    "### 3D MDS with preference as the z-axis"
   ]
  },
  {
   "cell_type": "code",
   "execution_count": 174,
   "metadata": {},
   "outputs": [],
   "source": [
    "def plot_3DMDS_overallPreference(matrix_transformed_1, matrix_transformed_2, matrix_transformed_1_as, matrix_transformed_2_as, unique_colours):\n",
    "    # List to store the embeddings\n",
    "    embeddings = []\n",
    "\n",
    "    # First matrix\n",
    "    mds = MDS(n_components=2, dissimilarity='precomputed', random_state=5)\n",
    "    embedding_2d = mds.fit_transform(matrix_transformed_1)\n",
    "\n",
    "    # Calculate the average value for each column\n",
    "    row_averages_1 = matrix_transformed_1_as.mean(axis=0).reshape(-1, 1)\n",
    "\n",
    "    # Add the row averages as the third dimension\n",
    "    embedding_3d = np.hstack((embedding_2d, row_averages_1))\n",
    "    embeddings.append(embedding_3d)\n",
    "\n",
    "    # Second matrix\n",
    "    mds = MDS(n_components=2, dissimilarity='precomputed', random_state=5)\n",
    "    embedding_2d = mds.fit_transform(matrix_transformed_2)\n",
    "\n",
    "    # Calculate the average value for each row\n",
    "    row_averages_2 = matrix_transformed_2_as.mean(axis=0).reshape(-1, 1)\n",
    "\n",
    "    # Add the row averages as the third dimension\n",
    "    embedding_3d = np.hstack((embedding_2d, row_averages_2))\n",
    "    embeddings.append(embedding_3d)\n",
    "\n",
    "    plot_3D_embeddings(embeddings, titles=['Subject 1', 'Subject 2'], color_labels=unique_colours, overlay=False)"
   ]
  },
  {
   "cell_type": "code",
   "execution_count": null,
   "metadata": {},
   "outputs": [],
   "source": [
    "plot_3DMDS_overallPreference(value_mapped_sym_1, value_mapped_sym_2, value_mapped_raw_1, value_mapped_raw_2, unique_colours)"
   ]
  },
  {
   "cell_type": "markdown",
   "metadata": {},
   "source": [
    "# GWOT"
   ]
  },
  {
   "cell_type": "markdown",
   "metadata": {},
   "source": [
    "### GWOT with symmetric matrix (preference distance)"
   ]
  },
  {
   "cell_type": "code",
   "execution_count": null,
   "metadata": {},
   "outputs": [],
   "source": [
    "RSA_corr = RSA(value_mapped_sym_1, value_mapped_sym_2)\n",
    "print('RSA correlation coefficient : ', RSA_corr)\n",
    "OT_plan_sym, gwds_sym, matching_rates_sym = GWD_and_plot(value_mapped_sym_1, value_mapped_sym_2, epsilons)"
   ]
  },
  {
   "cell_type": "code",
   "execution_count": null,
   "metadata": {},
   "outputs": [],
   "source": [
    "embeddings = []\n",
    "for RDM in [value_mapped_sym_1, value_mapped_sym_2]:\n",
    "    mds = MDS(n_components=3, dissimilarity='precomputed', random_state=5)\n",
    "    embedding = mds.fit_transform(RDM)\n",
    "    embeddings.append(embedding)\n",
    "\n",
    "embeddings_y = embeddings[1]\n",
    "# barycentric projection of embedding2 to the space of embedding1\n",
    "projected_embeddings_x = OT_plan_sym @ embeddings_y * len(OT_plan_sym)\n",
    "\n",
    "plot_3D_embeddings(\n",
    "    embeddings=[embeddings_y, projected_embeddings_x],\n",
    "    titles=['Subject 1', 'Subject 2'],\n",
    "    overlay=False,\n",
    "    color_labels=unique_colours)"
   ]
  },
  {
   "cell_type": "code",
   "execution_count": null,
   "metadata": {},
   "outputs": [],
   "source": [
    "projected_embeddings_x"
   ]
  },
  {
   "cell_type": "markdown",
   "metadata": {},
   "source": [
    "### GWOT with asymmetric matrix (preference ratings)"
   ]
  },
  {
   "cell_type": "code",
   "execution_count": null,
   "metadata": {},
   "outputs": [],
   "source": [
    "RSA_corr = RSA(value_mapped_raw_1, value_mapped_raw_2)\n",
    "print('RSA correlation coefficient : ', RSA_corr)\n",
    "OT_plan_as, gwds_as, matching_rates_as = GWD_and_plot(value_mapped_raw_1, value_mapped_raw_2, epsilons)"
   ]
  },
  {
   "cell_type": "markdown",
   "metadata": {},
   "source": [
    "### GWOT with random matrix - triangular based"
   ]
  },
  {
   "cell_type": "markdown",
   "metadata": {},
   "source": [
    "#### Kana"
   ]
  },
  {
   "cell_type": "code",
   "execution_count": 180,
   "metadata": {},
   "outputs": [],
   "source": [
    "value_mapped_as_shuffledByDiagonal_1 = shuffle_upper_and_lower_triangular(value_mapped_raw_1, matrix_size)"
   ]
  },
  {
   "cell_type": "code",
   "execution_count": null,
   "metadata": {},
   "outputs": [],
   "source": [
    "RSA_corr = RSA(value_mapped_raw_1, value_mapped_as_shuffledByDiagonal_1)\n",
    "print('RSA correlation coefficient : ', RSA_corr)\n",
    "OT_plan_withShuffledDiagonal_1, gwds_withShuffledDiagonal_1, matching_rates_withShuffledDiagonal_1 = GWD_and_plot(value_mapped_raw_1, value_mapped_as_shuffledByDiagonal_1, epsilons)"
   ]
  },
  {
   "cell_type": "markdown",
   "metadata": {},
   "source": [
    "#### Angus"
   ]
  },
  {
   "cell_type": "code",
   "execution_count": 182,
   "metadata": {},
   "outputs": [],
   "source": [
    "value_mapped_as_shuffledByDiagonal_2 = shuffle_upper_and_lower_triangular(value_mapped_raw_2, matrix_size)"
   ]
  },
  {
   "cell_type": "code",
   "execution_count": null,
   "metadata": {},
   "outputs": [],
   "source": [
    "RSA_corr = RSA(value_mapped_raw_2, value_mapped_as_shuffledByDiagonal_2)\n",
    "print('RSA correlation coefficient : ', RSA_corr)\n",
    "OT_plan_withShuffledDiagonal_2, gwds_withShuffledDiagonal_2, matching_rates_withShuffledDiagonal_2 = GWD_and_plot(value_mapped_raw_2, value_mapped_as_shuffledByDiagonal_2, epsilons)"
   ]
  },
  {
   "cell_type": "markdown",
   "metadata": {},
   "source": [
    "### GWOT with random matrix - column based"
   ]
  },
  {
   "cell_type": "markdown",
   "metadata": {},
   "source": [
    "#### Kana"
   ]
  },
  {
   "cell_type": "code",
   "execution_count": 184,
   "metadata": {},
   "outputs": [],
   "source": [
    "value_mapped_as_shuffledByColumn_1 = shuffle_column_and_asymmetritisize(value_mapped_raw_1, matrix_size)"
   ]
  },
  {
   "cell_type": "code",
   "execution_count": null,
   "metadata": {},
   "outputs": [],
   "source": [
    "RSA_corr = RSA(value_mapped_raw_1, value_mapped_as_shuffledByColumn_1)\n",
    "print('RSA correlation coefficient : ', RSA_corr)\n",
    "OT_plan_withShuffledColumn_1, gwds_withShuffledColumn_1, matching_rates_withShuffledColumn_1 = GWD_and_plot(value_mapped_raw_1, value_mapped_as_shuffledByColumn_1, epsilons)"
   ]
  },
  {
   "cell_type": "markdown",
   "metadata": {},
   "source": [
    "#### Angus"
   ]
  },
  {
   "cell_type": "code",
   "execution_count": 186,
   "metadata": {},
   "outputs": [],
   "source": [
    "value_mapped_as_shuffledByColumn_2 = shuffle_column_and_asymmetritisize(value_mapped_raw_2, matrix_size)"
   ]
  },
  {
   "cell_type": "code",
   "execution_count": null,
   "metadata": {},
   "outputs": [],
   "source": [
    "RSA_corr = RSA(value_mapped_raw_2, value_mapped_as_shuffledByColumn_2)\n",
    "print('RSA correlation coefficient : ', RSA_corr)\n",
    "OT_plan_withShuffledColumn_2, gwds_withShuffledColumn_2, matching_rates_withShuffledColumn_2 = GWD_and_plot(value_mapped_raw_2, value_mapped_as_shuffledByColumn_2, epsilons)"
   ]
  },
  {
   "cell_type": "markdown",
   "metadata": {},
   "source": [
    "### GWOT with random matrix - row based"
   ]
  },
  {
   "cell_type": "markdown",
   "metadata": {},
   "source": [
    "#### Subject 1"
   ]
  },
  {
   "cell_type": "code",
   "execution_count": 188,
   "metadata": {},
   "outputs": [],
   "source": [
    "value_mapped_as_shuffledByRow_1 = shuffle_row_and_asymmetritisize(value_mapped_raw_1, matrix_size)"
   ]
  },
  {
   "cell_type": "code",
   "execution_count": null,
   "metadata": {},
   "outputs": [],
   "source": [
    "RSA_corr = RSA(value_mapped_raw_1, value_mapped_as_shuffledByRow_1)\n",
    "print('RSA correlation coefficient : ', RSA_corr)\n",
    "OT_plan_withShuffledColumn_1, gwds_withShuffledRow_1, matching_rates_withShuffledRow_1 = GWD_and_plot(value_mapped_raw_1, value_mapped_as_shuffledByRow_1, epsilons)"
   ]
  },
  {
   "cell_type": "markdown",
   "metadata": {},
   "source": [
    "#### Subject 2"
   ]
  },
  {
   "cell_type": "code",
   "execution_count": 190,
   "metadata": {},
   "outputs": [],
   "source": [
    "value_mapped_as_shuffledByRow_2 = shuffle_row_and_asymmetritisize(value_mapped_raw_2, matrix_size)"
   ]
  },
  {
   "cell_type": "code",
   "execution_count": null,
   "metadata": {},
   "outputs": [],
   "source": [
    "RSA_corr = RSA(value_mapped_raw_2, value_mapped_as_shuffledByRow_2)\n",
    "print('RSA correlation coefficient : ', RSA_corr)\n",
    "OT_plan_withShuffledColumn_2, gwds_withShuffledRow_2, matching_rates_withShuffledRow_2 = GWD_and_plot(value_mapped_raw_2, value_mapped_as_shuffledByRow_2, epsilons)"
   ]
  },
  {
   "cell_type": "markdown",
   "metadata": {},
   "source": [
    "### GWOT with random matrix - shuffled and shuffled (diagonal based)"
   ]
  },
  {
   "cell_type": "markdown",
   "metadata": {},
   "source": [
    "#### Kana"
   ]
  },
  {
   "cell_type": "code",
   "execution_count": 192,
   "metadata": {},
   "outputs": [],
   "source": [
    "value_mapped_as_shuffledByDiagonal_1_1 = shuffle_upper_and_lower_triangular(value_mapped_raw_1, matrix_size)\n",
    "value_mapped_as_shuffledByDiagonal_1_2 = shuffle_upper_and_lower_triangular(value_mapped_raw_1, matrix_size)"
   ]
  },
  {
   "cell_type": "code",
   "execution_count": null,
   "metadata": {},
   "outputs": [],
   "source": [
    "RSA_corr = RSA(value_mapped_as_shuffledByDiagonal_1_1, value_mapped_as_shuffledByDiagonal_1_2)\n",
    "print('RSA correlation coefficient : ', RSA_corr)\n",
    "OT_plan_ShuffledwithShuffledDiagonal_1, gwds_ShuffledwithShuffledDiagonal_1, matching_rates_ShuffledwithShuffledDiagonal_1 = GWD_and_plot(value_mapped_as_shuffledByDiagonal_1_1, value_mapped_as_shuffledByDiagonal_1_2, epsilons)"
   ]
  },
  {
   "cell_type": "markdown",
   "metadata": {},
   "source": [
    "#### Angus"
   ]
  },
  {
   "cell_type": "code",
   "execution_count": 194,
   "metadata": {},
   "outputs": [],
   "source": [
    "value_mapped_as_shuffledByDiagonal_2_1 = shuffle_upper_and_lower_triangular(value_mapped_raw_2, matrix_size)\n",
    "value_mapped_as_shuffledByDiagonal_2_2 = shuffle_upper_and_lower_triangular(value_mapped_raw_2, matrix_size)"
   ]
  },
  {
   "cell_type": "code",
   "execution_count": null,
   "metadata": {},
   "outputs": [],
   "source": [
    "RSA_corr = RSA(value_mapped_as_shuffledByDiagonal_2_1, value_mapped_as_shuffledByDiagonal_2_2)\n",
    "print('RSA correlation coefficient : ', RSA_corr)\n",
    "OT_plan_ShuffledwithShuffledDiagonal_2, gwds_ShuffledwithShuffledDiagonal_2, matching_rates_ShuffledwithShuffledDiagonal_2 = GWD_and_plot(value_mapped_as_shuffledByDiagonal_2_1, value_mapped_as_shuffledByDiagonal_2_2, epsilons)"
   ]
  },
  {
   "cell_type": "markdown",
   "metadata": {},
   "source": [
    "### GWOT with random matrix - shuffled and shuffled (column based)"
   ]
  },
  {
   "cell_type": "markdown",
   "metadata": {},
   "source": [
    "#### Kana"
   ]
  },
  {
   "cell_type": "code",
   "execution_count": 196,
   "metadata": {},
   "outputs": [],
   "source": [
    "value_mapped_as_shuffledByColumn_1_1 = shuffle_column_and_asymmetritisize(value_mapped_raw_1, matrix_size)\n",
    "value_mapped_as_shuffledByColumn_1_2 = shuffle_column_and_asymmetritisize(value_mapped_raw_1, matrix_size)"
   ]
  },
  {
   "cell_type": "code",
   "execution_count": null,
   "metadata": {},
   "outputs": [],
   "source": [
    "RSA_corr = RSA(value_mapped_as_shuffledByColumn_1_1, value_mapped_as_shuffledByColumn_1_2)\n",
    "print('RSA correlation coefficient : ', RSA_corr)\n",
    "OT_plan_ShuffledwithShuffledColumn_1, gwds_ShuffledwithShuffledColumn_1, matching_rates_ShuffledwithShuffledColumn_1 = GWD_and_plot(value_mapped_as_shuffledByDiagonal_1_1, value_mapped_as_shuffledByDiagonal_1_2, epsilons)"
   ]
  },
  {
   "cell_type": "markdown",
   "metadata": {},
   "source": [
    "#### Angus"
   ]
  },
  {
   "cell_type": "code",
   "execution_count": 198,
   "metadata": {},
   "outputs": [],
   "source": [
    "value_mapped_as_shuffledByColumn_2_1 = shuffle_column_and_asymmetritisize(value_mapped_raw_2, matrix_size)\n",
    "value_mapped_as_shuffledByColumn_2_2 = shuffle_column_and_asymmetritisize(value_mapped_raw_2, matrix_size)"
   ]
  },
  {
   "cell_type": "code",
   "execution_count": null,
   "metadata": {},
   "outputs": [],
   "source": [
    "RSA_corr = RSA(value_mapped_as_shuffledByColumn_2_1, value_mapped_as_shuffledByColumn_2_2)\n",
    "print('RSA correlation coefficient : ', RSA_corr)\n",
    "OT_plan_ShuffledwithShuffledColumn_2, gwds_ShuffledwithShuffledColumn_2, matching_rates_ShuffledwithShuffledColumn_2 = GWD_and_plot(value_mapped_as_shuffledByColumn_2_1, value_mapped_as_shuffledByColumn_2_2, epsilons)"
   ]
  },
  {
   "cell_type": "markdown",
   "metadata": {},
   "source": [
    "### GWOT with random matrix - shuffled and shuffled (row based)"
   ]
  },
  {
   "cell_type": "markdown",
   "metadata": {},
   "source": [
    "#### Subject 1"
   ]
  },
  {
   "cell_type": "code",
   "execution_count": 200,
   "metadata": {},
   "outputs": [],
   "source": [
    "value_mapped_as_shuffledByRow_1_1 = shuffle_row_and_asymmetritisize(value_mapped_raw_1, matrix_size)\n",
    "value_mapped_as_shuffledByRow_1_2 = shuffle_row_and_asymmetritisize(value_mapped_raw_1, matrix_size)"
   ]
  },
  {
   "cell_type": "code",
   "execution_count": null,
   "metadata": {},
   "outputs": [],
   "source": [
    "RSA_corr = RSA(value_mapped_as_shuffledByRow_1_1, value_mapped_as_shuffledByRow_1_2)\n",
    "print('RSA correlation coefficient : ', RSA_corr)\n",
    "OT_plan_ShuffledwithShuffledRow_1, gwds_ShuffledwithShuffledRow_1, matching_rates_ShuffledwithShuffledRow_1 = GWD_and_plot(value_mapped_as_shuffledByRow_1_1, value_mapped_as_shuffledByRow_1_2, epsilons)"
   ]
  },
  {
   "cell_type": "markdown",
   "metadata": {},
   "source": [
    "#### Subject 2"
   ]
  },
  {
   "cell_type": "code",
   "execution_count": 202,
   "metadata": {},
   "outputs": [],
   "source": [
    "value_mapped_as_shuffledByRow_2_1 = shuffle_row_and_asymmetritisize(value_mapped_raw_2, matrix_size)\n",
    "value_mapped_as_shuffledByRow_2_2 = shuffle_row_and_asymmetritisize(value_mapped_raw_2, matrix_size)"
   ]
  },
  {
   "cell_type": "code",
   "execution_count": null,
   "metadata": {},
   "outputs": [],
   "source": [
    "RSA_corr = RSA(value_mapped_as_shuffledByRow_2_1, value_mapped_as_shuffledByRow_2_2)\n",
    "print('RSA correlation coefficient : ', RSA_corr)\n",
    "OT_plan_ShuffledwithShuffledRow_2, gwds_ShuffledwithShuffledRow_2, matching_rates_ShuffledwithShuffledRow_2 = GWD_and_plot(value_mapped_as_shuffledByRow_2_1, value_mapped_as_shuffledByRow_2_2, epsilons)"
   ]
  },
  {
   "cell_type": "code",
   "execution_count": null,
   "metadata": {},
   "outputs": [],
   "source": []
  }
 ],
 "metadata": {
  "kernelspec": {
   "display_name": "colorpreferencequalia",
   "language": "python",
   "name": "python3"
  },
  "language_info": {
   "codemirror_mode": {
    "name": "ipython",
    "version": 3
   },
   "file_extension": ".py",
   "mimetype": "text/x-python",
   "name": "python",
   "nbconvert_exporter": "python",
   "pygments_lexer": "ipython3",
   "version": "3.12.2"
  }
 },
 "nbformat": 4,
 "nbformat_minor": 2
}
