{
 "cells": [
  {
   "cell_type": "code",
   "execution_count": 11,
   "metadata": {},
   "outputs": [],
   "source": [
    "folder_path = 'raw_data'\n",
    "response_type = 'similarity'"
   ]
  },
  {
   "cell_type": "code",
   "execution_count": 12,
   "metadata": {},
   "outputs": [
    {
     "name": "stdout",
     "output_type": "stream",
     "text": [
      "['/Users/kanamatsuyanagi/anaconda3/envs/GWOT/lib/python312.zip', '/Users/kanamatsuyanagi/anaconda3/envs/GWOT/lib/python3.12', '/Users/kanamatsuyanagi/anaconda3/envs/GWOT/lib/python3.12/lib-dynload', '', '/Users/kanamatsuyanagi/anaconda3/envs/GWOT/lib/python3.12/site-packages']\n"
     ]
    },
    {
     "ename": "ImportError",
     "evalue": "cannot import name 'pairwise_csv_GWOT' from 'utilityFunctions' (/Users/kanamatsuyanagi/Library/Mobile Documents/com~apple~CloudDocs/Codes/GWOT_colorprefrencequalia/utilityFunctions.py)",
     "output_type": "error",
     "traceback": [
      "\u001b[0;31m---------------------------------------------------------------------------\u001b[0m",
      "\u001b[0;31mImportError\u001b[0m                               Traceback (most recent call last)",
      "Cell \u001b[0;32mIn[12], line 21\u001b[0m\n\u001b[1;32m     19\u001b[0m \u001b[38;5;28mprint\u001b[39m(sys\u001b[38;5;241m.\u001b[39mpath)\n\u001b[1;32m     20\u001b[0m \u001b[38;5;28;01mfrom\u001b[39;00m \u001b[38;5;21;01mitertools\u001b[39;00m \u001b[38;5;28;01mimport\u001b[39;00m combinations\n\u001b[0;32m---> 21\u001b[0m \u001b[38;5;28;01mfrom\u001b[39;00m \u001b[38;5;21;01mutilityFunctions\u001b[39;00m \u001b[38;5;28;01mimport\u001b[39;00m pairwise_csv_GWOT\n",
      "\u001b[0;31mImportError\u001b[0m: cannot import name 'pairwise_csv_GWOT' from 'utilityFunctions' (/Users/kanamatsuyanagi/Library/Mobile Documents/com~apple~CloudDocs/Codes/GWOT_colorprefrencequalia/utilityFunctions.py)"
     ]
    }
   ],
   "source": [
    "import os\n",
    "import pickle as pkl\n",
    "import sys\n",
    "import numpy as np\n",
    "import pandas as pd\n",
    "import sklearn\n",
    "import csv\n",
    "from scipy.stats import pearsonr, spearmanr\n",
    "import matplotlib.pyplot as plt\n",
    "from matplotlib.patches import Rectangle\n",
    "from mpl_toolkits.mplot3d import Axes3D\n",
    "from sklearn.manifold import MDS\n",
    "import seaborn as sns\n",
    "import ot\n",
    "import plotly.graph_objs as go\n",
    "import plotly.express as px\n",
    "from mpl_toolkits.axes_grid1 import make_axes_locatable\n",
    "import utilityFunctions\n",
    "print(sys.path)\n",
    "from itertools import combinations\n",
    "from utilityFunctions import pairwise_csv_GWOT"
   ]
  },
  {
   "cell_type": "code",
   "execution_count": null,
   "metadata": {},
   "outputs": [
    {
     "ename": "NameError",
     "evalue": "name 'pairwise_csv_GWOT' is not defined",
     "output_type": "error",
     "traceback": [
      "\u001b[0;31m---------------------------------------------------------------------------\u001b[0m",
      "\u001b[0;31mNameError\u001b[0m                                 Traceback (most recent call last)",
      "Cell \u001b[0;32mIn[10], line 1\u001b[0m\n\u001b[0;32m----> 1\u001b[0m \u001b[43mpairwise_csv_GWOT\u001b[49m(\u001b[38;5;124m'\u001b[39m\u001b[38;5;124mraw_data/202411_data/subject_01_551325.csv\u001b[39m\u001b[38;5;124m'\u001b[39m, \u001b[38;5;124m'\u001b[39m\u001b[38;5;124mraw_data/202411_data/subject_03_5eb05d.csv\u001b[39m\u001b[38;5;124m'\u001b[39m, [\u001b[38;5;241m1.02\u001b[39m,\u001b[38;5;241m2\u001b[39m], \u001b[38;5;241m30\u001b[39m)\n",
      "\u001b[0;31mNameError\u001b[0m: name 'pairwise_csv_GWOT' is not defined"
     ]
    }
   ],
   "source": [
    "pairwise_csv_GWOT('raw_data/202411_data/subject_01_551325.csv', 'raw_data/202411_data/subject_03_5eb05d.csv', [1.02,2], 30)"
   ]
  },
  {
   "cell_type": "code",
   "execution_count": null,
   "metadata": {},
   "outputs": [],
   "source": []
  }
 ],
 "metadata": {
  "kernelspec": {
   "display_name": "GWOT",
   "language": "python",
   "name": "python3"
  },
  "language_info": {
   "codemirror_mode": {
    "name": "ipython",
    "version": 3
   },
   "file_extension": ".py",
   "mimetype": "text/x-python",
   "name": "python",
   "nbconvert_exporter": "python",
   "pygments_lexer": "ipython3",
   "version": "3.12.8"
  }
 },
 "nbformat": 4,
 "nbformat_minor": 2
}
