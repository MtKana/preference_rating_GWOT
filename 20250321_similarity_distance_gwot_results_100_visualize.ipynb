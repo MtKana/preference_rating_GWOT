{
 "cells": [
  {
   "cell_type": "code",
   "execution_count": null,
   "metadata": {},
   "outputs": [],
   "source": [
    "from utilityFunctions import load_csv_to_matrix_batch, compute_color_preference_distance_batch, show_heatmaps, compute_color_similarity_distance_batch, compute_correlations, RSA, split_and_average_matrices\n",
    "from utilityFunctions_GWOT import compute_GWOT_for_all_pairs\n",
    "import numpy as np\n",
    "import pickle\n",
    "import os\n",
    "import random\n",
    "\n",
    "unique_colours = np.array(['#d2b700', '#db8b08', '#c7512c', '#c13547', '#a03663', '#753a7a', '#4b488e', '#005692', '#006a8b', '#007b75', '#008a52', '#9aa400'])\n",
    "colour_index = {colour: idx for idx, colour in enumerate(unique_colours)}\n",
    "matrix_size = len(unique_colours)\n",
    "response_type = 'similarity'"
   ]
  },
  {
   "cell_type": "code",
   "execution_count": null,
   "metadata": {},
   "outputs": [],
   "source": [
    "### GWOT configuration\n",
    "n_eps = 15 # number of epsilon values tried\n",
    "eps_range = [0.04, 5] # the range of epsilon searched\n",
    "epsilons = np.logspace(np.log10(eps_range[0]), np.log10(eps_range[1]), n_eps) # epsilon values"
   ]
  },
  {
   "cell_type": "code",
   "execution_count": null,
   "metadata": {},
   "outputs": [],
   "source": [
    "filename = \"list_average_of_all_possible_splitting_preference_distance.pkl\"\n",
    "\n",
    "if os.path.exists(filename):\n",
    "    with open(filename, \"rb\") as file:\n",
    "        grouping_averaged_allcombination_preference_distance = pickle.load(file)\n",
    "    print(\"Results successfully loaded.\")\n",
    "else:\n",
    "    print(f\"Error: The file '{filename}' does not exist.\")\n",
    "\n",
    "print(type(grouping_averaged_allcombination_preference_distance))\n",
    "print(len(grouping_averaged_allcombination_preference_distance))\n",
    "print(len(grouping_averaged_allcombination_preference_distance[0]))\n",
    "print(type(grouping_averaged_allcombination_preference_distance[0][0]))"
   ]
  }
 ],
 "metadata": {
  "language_info": {
   "name": "python"
  }
 },
 "nbformat": 4,
 "nbformat_minor": 2
}
